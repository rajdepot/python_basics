{
  "nbformat": 4,
  "nbformat_minor": 0,
  "metadata": {
    "kernelspec": {
      "display_name": "Python 3",
      "language": "python",
      "name": "python3"
    },
    "language_info": {
      "codemirror_mode": {
        "name": "ipython",
        "version": 3
      },
      "file_extension": ".py",
      "mimetype": "text/x-python",
      "name": "python",
      "nbconvert_exporter": "python",
      "pygments_lexer": "ipython3",
      "version": "3.7.4"
    },
    "colab": {
      "provenance": [],
      "include_colab_link": true
    }
  },
  "cells": [
    {
      "cell_type": "markdown",
      "metadata": {
        "id": "view-in-github",
        "colab_type": "text"
      },
      "source": [
        "<a href=\"https://colab.research.google.com/github/rajdepot/python_basics/blob/main/Statements%2C_Indentation_and_Conditionals.ipynb\" target=\"_parent\"><img src=\"https://colab.research.google.com/assets/colab-badge.svg\" alt=\"Open In Colab\"/></a>"
      ]
    },
    {
      "cell_type": "markdown",
      "metadata": {
        "id": "uCEngv6FHnnb"
      },
      "source": [
        "# <u>Understanding the difference between Statements and Expressions</u>"
      ]
    },
    {
      "cell_type": "markdown",
      "metadata": {
        "id": "6KySHsyNHnne"
      },
      "source": [
        "* A Statement is an instruction that the Python interpreter can execute. We have only seen the assignment statement so far. Some other kinds of statements that we’ll see shortly are while statements, for statements, if statements, and import statements. (There are other kinds too!)\n",
        "\n",
        "\n",
        "* An Expression is a combination of values, variables, operators, and calls to functions. Expressions need to be evaluated. If you ask Python to print an expression, the interpreter evaluates the expression and displays the result."
      ]
    },
    {
      "cell_type": "code",
      "metadata": {
        "id": "WT3EsLAIYUPx"
      },
      "source": [
        "# Assignment statement\n",
        "x = 3"
      ],
      "execution_count": null,
      "outputs": []
    },
    {
      "cell_type": "code",
      "metadata": {
        "id": "ZN-GxWfKHnng",
        "colab": {
          "base_uri": "https://localhost:8080/"
        },
        "outputId": "8e6d0763-622b-40c0-87c5-3d004b6c8c73"
      },
      "source": [
        "print(1 + 1)\n",
        "print(len(\"Hello Team Upgrad\"))"
      ],
      "execution_count": null,
      "outputs": [
        {
          "output_type": "stream",
          "name": "stdout",
          "text": [
            "2\n",
            "17\n"
          ]
        }
      ]
    },
    {
      "cell_type": "markdown",
      "metadata": {
        "id": "sHO6fat6Hnns"
      },
      "source": [
        "* In this example <code>len()</code> is a built-in Python function that returns the number of characters in a string. We’ve previously seen the <code>print()</code> and the <code>type()</code> functions, so this is an example of another function!\n",
        "\n",
        "\n",
        "* The evaluation of an expression produces a value, which is why expressions can appear on the right hand side of assignment statements. A value all by itself is a simple expression, and so is a variable. Evaluating a variable gives the value that the variable refers to."
      ]
    },
    {
      "cell_type": "code",
      "metadata": {
        "id": "0QCxgyEbHnnu"
      },
      "source": [
        "y = 3.14"
      ],
      "execution_count": null,
      "outputs": []
    },
    {
      "cell_type": "code",
      "metadata": {
        "id": "yHx-90qB7llg",
        "colab": {
          "base_uri": "https://localhost:8080/"
        },
        "outputId": "bacac0a4-7c97-4baa-cef6-d9c8a990aa71"
      },
      "source": [
        "y"
      ],
      "execution_count": null,
      "outputs": [
        {
          "output_type": "execute_result",
          "data": {
            "text/plain": [
              "3.14"
            ]
          },
          "metadata": {},
          "execution_count": 4
        }
      ]
    },
    {
      "cell_type": "code",
      "metadata": {
        "id": "XQayBiLeZ1eg"
      },
      "source": [
        "a = 'Mighty'\n",
        "# b = a == True"
      ],
      "execution_count": null,
      "outputs": []
    },
    {
      "cell_type": "code",
      "metadata": {
        "colab": {
          "base_uri": "https://localhost:8080/"
        },
        "id": "n1rgy43RZ70I",
        "outputId": "98d84acd-bbb9-465d-fa10-f718652c81ff"
      },
      "source": [
        "a == 'Mighty'"
      ],
      "execution_count": null,
      "outputs": [
        {
          "output_type": "execute_result",
          "data": {
            "text/plain": [
              "True"
            ]
          },
          "metadata": {},
          "execution_count": 7
        }
      ]
    },
    {
      "cell_type": "markdown",
      "metadata": {
        "id": "VC98TpZyHnn0"
      },
      "source": [
        "* Note that when we enter the assignment statement, <code>y = 3.14 </code>, only the prompt is returned. There is no value. This is due to the fact that statements, such as the assignment statement, do not return a value. They are simply executed."
      ]
    },
    {
      "cell_type": "code",
      "metadata": {
        "id": "k8mZhU9naj6b"
      },
      "source": [
        "# Import statement\n",
        "import pandas as pd"
      ],
      "execution_count": null,
      "outputs": []
    },
    {
      "cell_type": "code",
      "metadata": {
        "id": "QvpFXqHvHnn1",
        "colab": {
          "base_uri": "https://localhost:8080/"
        },
        "outputId": "33444c8d-4c11-4b25-c809-5c80915cb90a"
      },
      "source": [
        "print(y)"
      ],
      "execution_count": null,
      "outputs": [
        {
          "output_type": "stream",
          "name": "stdout",
          "text": [
            "3.14\n"
          ]
        }
      ]
    },
    {
      "cell_type": "code",
      "metadata": {
        "id": "UOlQvndGHnn6",
        "colab": {
          "base_uri": "https://localhost:8080/"
        },
        "outputId": "ba102ce9-472c-4ecc-f6a8-fa77baa08985"
      },
      "source": [
        "y"
      ],
      "execution_count": null,
      "outputs": [
        {
          "output_type": "execute_result",
          "data": {
            "text/plain": [
              "3.14"
            ]
          },
          "metadata": {},
          "execution_count": 10
        }
      ]
    },
    {
      "cell_type": "markdown",
      "metadata": {
        "id": "w945dRqiHnn9"
      },
      "source": [
        "* On the other hand, the result of executing the assignment statement is the creation of a reference from a variable, y, to a value, 3.14. When we execute the <code>print()</code> function working on y, we see the value that y is referring to. In fact, evaluating y by itself results in the same response."
      ]
    },
    {
      "cell_type": "markdown",
      "metadata": {
        "id": "mvOHovwVHnn9"
      },
      "source": [
        "* Instructions that a Python interpreter can execute are called statements. For example, <code>a = 1</code> is an assignment statement. <code>if</code> statement, <code>for</code> statement, <code>while</code> statement, etc. are other kinds of statements which will be discussed later."
      ]
    },
    {
      "cell_type": "markdown",
      "metadata": {
        "id": "LfTpVhrcHnn-"
      },
      "source": [
        "### Multi-line Statements"
      ]
    },
    {
      "cell_type": "markdown",
      "metadata": {
        "id": "8WI-7DFHHnn-"
      },
      "source": [
        "* In Python, the end of a statement is marked by a newline character. But we can make a statement extend over multiple lines with the line continuation character (\\)."
      ]
    },
    {
      "cell_type": "code",
      "metadata": {
        "id": "JgAslWA9b2Md"
      },
      "source": [
        "x = 1\n",
        "y = (2\n",
        "+ 5)\n",
        "z = 3"
      ],
      "execution_count": null,
      "outputs": []
    },
    {
      "cell_type": "code",
      "metadata": {
        "colab": {
          "base_uri": "https://localhost:8080/"
        },
        "id": "_gWSgBDrb4yj",
        "outputId": "6d734a01-32b8-43fa-ed31-b5ee38207b2c"
      },
      "source": [
        "y"
      ],
      "execution_count": null,
      "outputs": [
        {
          "output_type": "execute_result",
          "data": {
            "text/plain": [
              "7"
            ]
          },
          "metadata": {},
          "execution_count": 14
        }
      ]
    },
    {
      "cell_type": "code",
      "metadata": {
        "id": "P3XeEpxgHnn_"
      },
      "source": [
        "a = (1 + 2 + 3 + 4 +\n",
        "5 + 6+ 7+ 8+\n",
        "9 + 10)"
      ],
      "execution_count": null,
      "outputs": []
    },
    {
      "cell_type": "code",
      "metadata": {
        "id": "uKiA4sBFHnoC",
        "colab": {
          "base_uri": "https://localhost:8080/"
        },
        "outputId": "fac5d512-9938-415e-efdd-a6e44fe40ce3"
      },
      "source": [
        "a"
      ],
      "execution_count": null,
      "outputs": [
        {
          "output_type": "execute_result",
          "data": {
            "text/plain": [
              "55"
            ]
          },
          "metadata": {},
          "execution_count": 17
        }
      ]
    },
    {
      "cell_type": "markdown",
      "metadata": {
        "id": "ZT6MwgGsHnoF"
      },
      "source": [
        "* This is an explicit line continuation. In Python, line continuation is implied inside parentheses <code>( )</code>, brackets <code>[ ]</code>, and braces <code>{ }</code>. For instance, we can implement the above multi-line statement as:"
      ]
    },
    {
      "cell_type": "code",
      "source": [
        "1,2"
      ],
      "metadata": {
        "colab": {
          "base_uri": "https://localhost:8080/"
        },
        "id": "M2UgKJ2Kh_qI",
        "outputId": "9aba5f34-7a87-42be-d32f-9d3bf98130be"
      },
      "execution_count": null,
      "outputs": [
        {
          "output_type": "execute_result",
          "data": {
            "text/plain": [
              "(1, 2)"
            ]
          },
          "metadata": {},
          "execution_count": 20
        }
      ]
    },
    {
      "cell_type": "code",
      "metadata": {
        "id": "V6l3evBTdpGg"
      },
      "source": [
        "my_list = [1]\n",
        "my_tuple = (1,)"
      ],
      "execution_count": null,
      "outputs": []
    },
    {
      "cell_type": "code",
      "metadata": {
        "colab": {
          "base_uri": "https://localhost:8080/"
        },
        "id": "d5xpwMgAdtLo",
        "outputId": "a486fad7-f81c-4f66-d482-3812801f4ca0"
      },
      "source": [
        "my_list, my_tuple"
      ],
      "execution_count": null,
      "outputs": [
        {
          "output_type": "execute_result",
          "data": {
            "text/plain": [
              "([1], (1,))"
            ]
          },
          "metadata": {},
          "execution_count": 19
        }
      ]
    },
    {
      "cell_type": "code",
      "metadata": {
        "id": "pbQlDAYyHnoG"
      },
      "source": [
        "a = (1 + 2 + 3 + 4 +\n",
        "\n",
        "     5 + 6 + 7 +\n",
        "     8 + 9 + 10)"
      ],
      "execution_count": null,
      "outputs": []
    },
    {
      "cell_type": "code",
      "metadata": {
        "id": "D_OaHIHz8xJZ",
        "colab": {
          "base_uri": "https://localhost:8080/"
        },
        "outputId": "e52ba201-ee94-4e29-c28c-6216f4b136ba"
      },
      "source": [
        "a"
      ],
      "execution_count": null,
      "outputs": [
        {
          "output_type": "execute_result",
          "data": {
            "text/plain": [
              "55"
            ]
          },
          "metadata": {},
          "execution_count": 22
        }
      ]
    },
    {
      "cell_type": "code",
      "metadata": {
        "colab": {
          "base_uri": "https://localhost:8080/"
        },
        "id": "sF5Ncyoldjsq",
        "outputId": "686731fe-77de-4d00-b9c8-e4ba139f82e8"
      },
      "source": [
        "type(a)"
      ],
      "execution_count": null,
      "outputs": [
        {
          "output_type": "execute_result",
          "data": {
            "text/plain": [
              "int"
            ]
          },
          "metadata": {},
          "execution_count": 23
        }
      ]
    },
    {
      "cell_type": "markdown",
      "metadata": {
        "id": "PNsXf6IfHnoI"
      },
      "source": [
        "* Here, the surrounding parentheses <code>( )</code> do the line continuation implicitly. Same is the case with <code>[ ]</code> and <code>{ }</code>. For example:"
      ]
    },
    {
      "cell_type": "code",
      "metadata": {
        "id": "UXPQjcvL9Mwq"
      },
      "source": [
        "a = 1\n",
        "b = 2"
      ],
      "execution_count": null,
      "outputs": []
    },
    {
      "cell_type": "code",
      "metadata": {
        "id": "V4vEIYUde5Qv"
      },
      "source": [
        "colors = 'Set theory is the mathematical theory of well-determined collections, called sets, of objects that are called members, or elements, of the set. Pure set theory deals exclusively with sets, so the only sets under consideration are those whose members are also sets. The theory of the hereditarily-finite sets, namely those finite sets whose elements are also finite sets, the elements of which are also finite, and so on, is formally equivalent to arithmetic. So, the essence of set theory is the study of infinite sets, and therefore it can be defined as the mathematical theory of the actual—as opposed to potential—infinite.'"
      ],
      "execution_count": null,
      "outputs": []
    },
    {
      "cell_type": "code",
      "metadata": {
        "id": "acavVLtgHnoI"
      },
      "source": [
        "colors = 'Set theory is the mathematical theory of well-determined collections, called sets, \\\n",
        "of objects that are called members, or elements, of the set. Pure set theory deals exclusively \\\n",
        "with sets, so the only sets under consideration are those whose members are also sets.\\\n",
        "The theory of the hereditarily-finite sets, namely those finite sets whose elements are also finite sets,\\\n",
        " the elements of which are also finite, and so on, is formally equivalent to arithmetic. \\\n",
        " So, the essence of set theory is the study of infinite sets, and \\\n",
        " therefore it can be defined as the mathematical theory of the actual—as opposed to potential—infinite.'"
      ],
      "execution_count": null,
      "outputs": []
    },
    {
      "cell_type": "code",
      "metadata": {
        "id": "b84McgJT9zhw",
        "colab": {
          "base_uri": "https://localhost:8080/",
          "height": 89
        },
        "outputId": "f6873b2b-8369-4dbd-a0ee-b7d2ad908779"
      },
      "source": [
        "colors"
      ],
      "execution_count": null,
      "outputs": [
        {
          "output_type": "execute_result",
          "data": {
            "text/plain": [
              "'Set theory is the mathematical theory of well-determined collections, called sets, of objects that are called members, or elements, of the set. Pure set theory deals exclusively with sets, so the only sets under consideration are those whose members are also sets.The theory of the hereditarily-finite sets, namely those finite sets whose elements are also finite sets, the elements of which are also finite, and so on, is formally equivalent to arithmetic.  So, the essence of set theory is the study of infinite sets, and  therefore it can be defined as the mathematical theory of the actual—as opposed to potential—infinite.'"
            ],
            "application/vnd.google.colaboratory.intrinsic+json": {
              "type": "string"
            }
          },
          "metadata": {},
          "execution_count": 27
        }
      ]
    },
    {
      "cell_type": "markdown",
      "metadata": {
        "id": "B03yfZ97HnoK"
      },
      "source": [
        "* We can also put multiple statements in a single line using semicolons, as follows:"
      ]
    },
    {
      "cell_type": "code",
      "metadata": {
        "id": "OQDamWX8fYK4"
      },
      "source": [
        "a = 1\n",
        "b = 2\n",
        "c = 3"
      ],
      "execution_count": null,
      "outputs": []
    },
    {
      "cell_type": "code",
      "metadata": {
        "id": "Ai_uK72yHnoL"
      },
      "source": [
        "a = 1 ; b = 2 ; c = 3"
      ],
      "execution_count": null,
      "outputs": []
    },
    {
      "cell_type": "code",
      "metadata": {
        "id": "1UpKwsua-HIk",
        "colab": {
          "base_uri": "https://localhost:8080/"
        },
        "outputId": "b3e84199-9380-4b1e-8a43-de1e1adf1cb9"
      },
      "source": [
        "c"
      ],
      "execution_count": null,
      "outputs": [
        {
          "output_type": "execute_result",
          "data": {
            "text/plain": [
              "3"
            ]
          },
          "metadata": {},
          "execution_count": 32
        }
      ]
    },
    {
      "cell_type": "code",
      "metadata": {
        "id": "P_A4qzdCgdFO"
      },
      "source": [
        "a = 1\n",
        "b = 2\n",
        "c = 3"
      ],
      "execution_count": null,
      "outputs": []
    },
    {
      "cell_type": "code",
      "source": [
        "a, b, c = 1,2,3"
      ],
      "metadata": {
        "id": "OJuz9BnliqDe"
      },
      "execution_count": null,
      "outputs": []
    },
    {
      "cell_type": "code",
      "source": [
        "print(a)"
      ],
      "metadata": {
        "colab": {
          "base_uri": "https://localhost:8080/"
        },
        "id": "LEhVasikiyN9",
        "outputId": "108f16be-54ac-46d6-d153-2092c1ca76a3"
      },
      "execution_count": null,
      "outputs": [
        {
          "output_type": "stream",
          "name": "stdout",
          "text": [
            "1\n"
          ]
        }
      ]
    },
    {
      "cell_type": "code",
      "metadata": {
        "id": "Qi411Crhoy_X"
      },
      "source": [
        "a, b, c = [1, 'a', True], (45, 67), {'Name' : 'Vikash' , 'Age' : 27}"
      ],
      "execution_count": null,
      "outputs": []
    },
    {
      "cell_type": "code",
      "metadata": {
        "id": "_MLqT90co1uM",
        "colab": {
          "base_uri": "https://localhost:8080/"
        },
        "outputId": "8b49a45a-9bee-40f7-fdff-a631d6c3d2c1"
      },
      "source": [
        "a"
      ],
      "execution_count": null,
      "outputs": [
        {
          "output_type": "execute_result",
          "data": {
            "text/plain": [
              "[1, 'a', True]"
            ]
          },
          "metadata": {},
          "execution_count": 38
        }
      ]
    },
    {
      "cell_type": "code",
      "metadata": {
        "id": "wFWj0Mo1o6e0",
        "colab": {
          "base_uri": "https://localhost:8080/"
        },
        "outputId": "88881f15-82a8-435f-ee61-aa3ddeacea50"
      },
      "source": [
        "b"
      ],
      "execution_count": null,
      "outputs": [
        {
          "output_type": "execute_result",
          "data": {
            "text/plain": [
              "(45, 67)"
            ]
          },
          "metadata": {},
          "execution_count": 39
        }
      ]
    },
    {
      "cell_type": "code",
      "metadata": {
        "id": "cX-CIJFwo8ce",
        "colab": {
          "base_uri": "https://localhost:8080/"
        },
        "outputId": "a00b8851-0bea-4585-c69a-b5794237369c"
      },
      "source": [
        "c"
      ],
      "execution_count": null,
      "outputs": [
        {
          "output_type": "execute_result",
          "data": {
            "text/plain": [
              "{'Name': 'Vikash', 'Age': 27}"
            ]
          },
          "metadata": {},
          "execution_count": 40
        }
      ]
    },
    {
      "cell_type": "code",
      "metadata": {
        "id": "yOwjB-YYhQfk"
      },
      "source": [
        "a, b = b, a"
      ],
      "execution_count": null,
      "outputs": []
    },
    {
      "cell_type": "code",
      "metadata": {
        "colab": {
          "base_uri": "https://localhost:8080/"
        },
        "id": "5F9bYYGDhS5J",
        "outputId": "fca8a480-c2dc-49ba-b1f1-ac1e847dedac"
      },
      "source": [
        "a"
      ],
      "execution_count": null,
      "outputs": [
        {
          "output_type": "execute_result",
          "data": {
            "text/plain": [
              "(45, 67)"
            ]
          },
          "metadata": {},
          "execution_count": 42
        }
      ]
    },
    {
      "cell_type": "code",
      "metadata": {
        "colab": {
          "base_uri": "https://localhost:8080/"
        },
        "id": "5vod6tsShUvH",
        "outputId": "99f559e0-fbe7-4c6a-b1ad-8cbbef64230f"
      },
      "source": [
        "b"
      ],
      "execution_count": null,
      "outputs": [
        {
          "output_type": "execute_result",
          "data": {
            "text/plain": [
              "[1, 'a', True]"
            ]
          },
          "metadata": {},
          "execution_count": 43
        }
      ]
    },
    {
      "cell_type": "markdown",
      "metadata": {
        "id": "khxoqawIHnoN"
      },
      "source": [
        "# <u>Python Comments</u>"
      ]
    },
    {
      "cell_type": "markdown",
      "metadata": {
        "id": "7he_1JNlHnoN"
      },
      "source": [
        "* Comments are very important while writing a program. They describe what is going on inside a program, so that a person looking at the source code does not have a hard time figuring it out.\n",
        "\n",
        "\n",
        "* You might forget the key details of the program you just wrote in a month's time. So taking the time to explain these concepts in the form of comments is always fruitful.\n",
        "\n",
        "\n",
        "* In Python, we use the hash (#) symbol to start writing a comment.\n",
        "\n",
        "\n",
        "* It extends up to the newline character. Comments are for programmers to better understand a program. Python Interpreter ignores comments."
      ]
    },
    {
      "cell_type": "code",
      "metadata": {
        "id": "r5BzV1ITHnoN",
        "colab": {
          "base_uri": "https://localhost:8080/",
          "height": 33
        },
        "outputId": "0a79a439-7dc1-4c3c-d3b5-6505067287ff"
      },
      "source": [
        "# This is a comment\n",
        "# print('Hello')\n",
        "print('Hello')"
      ],
      "execution_count": null,
      "outputs": [
        {
          "output_type": "stream",
          "text": [
            "Hello\n"
          ],
          "name": "stdout"
        }
      ]
    },
    {
      "cell_type": "markdown",
      "metadata": {
        "id": "rt8jeajiHnoQ"
      },
      "source": [
        "* We can have comments that extend up to multiple lines. One way is to use the hash(#) symbol at the beginning of each line. For example:"
      ]
    },
    {
      "cell_type": "code",
      "metadata": {
        "id": "ke5LH88CHnoQ"
      },
      "source": [
        "# This is a long comment\n",
        "# and it extends\n",
        "# to multiple lines"
      ],
      "execution_count": null,
      "outputs": []
    },
    {
      "cell_type": "markdown",
      "metadata": {
        "id": "dM5xcR6uHnoS"
      },
      "source": [
        "* Another way of doing this is to use triple quotes, either ''' or \"\"\".\n",
        "\n",
        "\n",
        "* These triple quotes are generally used for multi-line strings. But they can be used as a multi-line comment as well. Unless they are not docstrings, they do not generate any extra code."
      ]
    },
    {
      "cell_type": "code",
      "metadata": {
        "id": "o1Aw0HL7HnoT",
        "colab": {
          "base_uri": "https://localhost:8080/"
        },
        "outputId": "a3955342-310f-4a02-eb12-a6785ae8b790"
      },
      "source": [
        "'''This is also a\n",
        "perfect example of\n",
        "ahjcdjh\n",
        "sdjbdkjas\n",
        "mnbscjsab\n",
        "bkjabfa\n",
        "multi-line comments'''\n",
        "\n",
        "\n",
        "\n",
        "a = 3\n",
        "print(a)"
      ],
      "execution_count": null,
      "outputs": [
        {
          "output_type": "stream",
          "name": "stdout",
          "text": [
            "3\n"
          ]
        }
      ]
    },
    {
      "cell_type": "markdown",
      "metadata": {
        "id": "XM2CjOCyHnoV"
      },
      "source": [
        "# <u>Indentation in Python </u>\n",
        "\n",
        "It is important to keep a good understanding of how indentation works in Python to maintain the structure and order of your code. We will touch on this topic again when we start building out functions!"
      ]
    },
    {
      "cell_type": "markdown",
      "metadata": {
        "id": "uhAgTP0tHnoW"
      },
      "source": [
        "* Let's create a simple statement that says: \"If a is greater than b, assign 2 to a and 4 to b\"\n",
        "\n",
        "\n",
        "* Take a look at how to write a simple if statement                 "
      ]
    },
    {
      "cell_type": "code",
      "metadata": {
        "id": "cubiTvRkHnoW"
      },
      "source": [
        " a=2\n",
        " b=1\n",
        "\n",
        "# if b > a:\n",
        "#   a = 5\n",
        "#   b = 5"
      ],
      "execution_count": null,
      "outputs": []
    },
    {
      "cell_type": "code",
      "metadata": {
        "id": "x3pl15PBHnoZ",
        "colab": {
          "base_uri": "https://localhost:8080/"
        },
        "outputId": "234fef8e-0fe2-41f3-b837-2abde2663e8c"
      },
      "source": [
        " a"
      ],
      "execution_count": null,
      "outputs": [
        {
          "output_type": "execute_result",
          "data": {
            "text/plain": [
              "2"
            ]
          },
          "metadata": {},
          "execution_count": 46
        }
      ]
    },
    {
      "cell_type": "code",
      "metadata": {
        "id": "fPEVAaRLHnoc",
        "colab": {
          "base_uri": "https://localhost:8080/"
        },
        "outputId": "453c86d7-33e7-4ec5-ccc0-ea296930c8ee"
      },
      "source": [
        "b"
      ],
      "execution_count": null,
      "outputs": [
        {
          "output_type": "execute_result",
          "data": {
            "text/plain": [
              "1"
            ]
          },
          "metadata": {},
          "execution_count": 47
        }
      ]
    },
    {
      "cell_type": "code",
      "metadata": {
        "id": "5dv6qNOXlL6X"
      },
      "source": [
        "a, b = 1, 2"
      ],
      "execution_count": null,
      "outputs": []
    },
    {
      "cell_type": "code",
      "source": [
        "if, else, for, while"
      ],
      "metadata": {
        "id": "SsdPsntij5UF"
      },
      "execution_count": null,
      "outputs": []
    },
    {
      "cell_type": "code",
      "metadata": {
        "id": "RKk2I-kKHnoe"
      },
      "source": [
        "#indentation\n",
        "\n",
        "if a > b :\n",
        "  print(\"a = 2\")\n",
        "  print(\"b = 4\")"
      ],
      "execution_count": null,
      "outputs": []
    },
    {
      "cell_type": "code",
      "source": [
        "print(a)"
      ],
      "metadata": {
        "colab": {
          "base_uri": "https://localhost:8080/"
        },
        "id": "jol3cCDekJDN",
        "outputId": "c2550610-d445-4303-eebc-b57261ba672c"
      },
      "execution_count": null,
      "outputs": [
        {
          "output_type": "stream",
          "name": "stdout",
          "text": [
            "1\n"
          ]
        }
      ]
    },
    {
      "cell_type": "markdown",
      "metadata": {
        "id": "7zf6T5CSHnog"
      },
      "source": [
        "* You'll notice that Python is less cluttered and much more readable than other languages like C or Java. How does Python manage this?\n",
        "\n",
        "\n",
        "* The statement is ended with a colon, and whitespace(tab) is used (indentation) to describe what takes place in case of the statement.\n",
        "\n",
        "\n",
        "* Another major difference is the lack of semicolons in Python.\n",
        "\n",
        "\n",
        "* Semicolons are used to denote statement endings in many other languages, but in Python, **the end of a line is the same as the end of a statement.**\n",
        "\n",
        "\n",
        "* Lastly, to end this brief overview of differences, let's take a closer look at indentation syntax in Python vs other languages:"
      ]
    },
    {
      "cell_type": "markdown",
      "metadata": {
        "id": "1tDQg0B1Hnog"
      },
      "source": [
        "# <u> Conditional Statements </u>\n",
        "\n",
        "* <code>if</code> Statements in Python allows us to tell the computer to perform alternative actions based on a certain set of results.\n",
        "\n",
        "\n",
        "* Verbally, we can imagine we are telling the computer:\"Hey if this case happens, perform some action\"\n",
        "\n",
        "\n",
        "* We can then expand the idea further with <code>elif</code> and <code>else</code> statements, which allow us to tell the computer: \"Hey if this case happens, perform some action. Else, if another case happens, perform some other action. Else, if *none* of the above cases happened, perform this action.\"\n",
        "\n",
        "\n",
        "* Let's go ahead and look at the syntax format for <code>if</code> statements to get a better idea of this:\n",
        "\n",
        "    if case1:\n",
        "        perform action1\n",
        "    elif case2:\n",
        "        perform action2\n",
        "    else:\n",
        "        perform action3"
      ]
    },
    {
      "cell_type": "code",
      "metadata": {
        "id": "9HTiofEDoOR6"
      },
      "source": [
        "if case1 :\n",
        "  # do some action\n",
        "  elif case 5 :\n",
        "    # another action\n",
        "elif case2 :\n",
        "  # do some another action\n",
        "else:\n",
        "  # do some yet another action"
      ],
      "execution_count": null,
      "outputs": []
    },
    {
      "cell_type": "code",
      "metadata": {
        "id": "bFe8-H-oHnoh"
      },
      "source": [
        "x=20   # Statement 1 - Assignment statement\n",
        "\n",
        "if x == 30 :\n",
        "  print('x is greater than 10!')\n",
        "  print(f'x is {x}')"
      ],
      "execution_count": null,
      "outputs": []
    },
    {
      "cell_type": "markdown",
      "metadata": {
        "id": "RI18dXE4Hnok"
      },
      "source": [
        "* <code>if</code> statement evaluates the True condition"
      ]
    },
    {
      "cell_type": "code",
      "metadata": {
        "colab": {
          "base_uri": "https://localhost:8080/"
        },
        "id": "0c6qcOShq1AI",
        "outputId": "e50bc25d-8154-49f3-bf87-9513f286065f"
      },
      "source": [
        "x == 20"
      ],
      "execution_count": null,
      "outputs": [
        {
          "output_type": "execute_result",
          "data": {
            "text/plain": [
              "True"
            ]
          },
          "metadata": {},
          "execution_count": 58
        }
      ]
    },
    {
      "cell_type": "code",
      "metadata": {
        "id": "n2L2kPAkHnol",
        "colab": {
          "base_uri": "https://localhost:8080/"
        },
        "outputId": "4cf40b09-bb6f-4a88-b51c-300d9aa57597"
      },
      "source": [
        "if True:\n",
        "  print('It was true!')"
      ],
      "execution_count": null,
      "outputs": [
        {
          "output_type": "stream",
          "text": [
            "It was true!\n"
          ],
          "name": "stdout"
        }
      ]
    },
    {
      "cell_type": "code",
      "metadata": {
        "id": "qvVhD8tYHnon"
      },
      "source": [
        "if False:\n",
        "  print('It was true!')"
      ],
      "execution_count": null,
      "outputs": []
    },
    {
      "cell_type": "markdown",
      "metadata": {
        "id": "ofrPBG8ZHnop"
      },
      "source": [
        "Let's add in some else logic:"
      ]
    },
    {
      "cell_type": "code",
      "metadata": {
        "id": "EF7AiLkrHnoq",
        "colab": {
          "base_uri": "https://localhost:8080/"
        },
        "outputId": "15f0d007-8d6e-459d-cee7-ac06440de47c"
      },
      "source": [
        "x = False\n",
        "y = True\n",
        "\n",
        "if x:\n",
        "  print('y was True!')\n",
        "else:\n",
        "  print('I will be printed in any case where x is not true')"
      ],
      "execution_count": null,
      "outputs": [
        {
          "output_type": "stream",
          "text": [
            "I will be printed in any case where x is not true\n"
          ],
          "name": "stdout"
        }
      ]
    },
    {
      "cell_type": "markdown",
      "metadata": {
        "id": "lEGoq9pjHnos"
      },
      "source": [
        "* Let's get a fuller picture of how far <code>if</code>, <code>elif</code>, and <code>else</code> can take us!\n",
        "\n",
        "\n",
        "* We write this out in a nested structure. Take note of how the <code>if</code>, <code>elif</code>, and <code>else</code> line up in the code. This can help you see what <code>if</code> is related to what <code>elif</code> or <code>else</code> statements."
      ]
    },
    {
      "cell_type": "code",
      "metadata": {
        "id": "DbV35ChhHnot",
        "colab": {
          "base_uri": "https://localhost:8080/"
        },
        "outputId": "a7f1dd64-e8ef-4e67-902a-2eb6f1a3f034"
      },
      "source": [
        "city = 'Pune'\n",
        "\n",
        "if city == 'New Delhi':\n",
        "  print(f'Welcome to {city} the Indian Capital')\n",
        "elif city == 'Mumbai':\n",
        "  print(f'Welcome to {city} the Financial Capital of India!')\n",
        "if city == 'Kolkata':\n",
        "  print(f'Welcome to {city} the city of Joy')\n",
        "else:\n",
        "  print(f'Where are you? in {city}?')"
      ],
      "execution_count": null,
      "outputs": [
        {
          "output_type": "stream",
          "name": "stdout",
          "text": [
            "Where are you? in Pune?\n"
          ]
        }
      ]
    },
    {
      "cell_type": "markdown",
      "metadata": {
        "id": "Crk-mLkYHnow"
      },
      "source": [
        "* Note how the nested <code>if</code> statements are each checked until a True boolean causes the nested code below it to run. You should also note that you can put in as many <code>elif</code> statements as you want before you close off with an <code>else</code>.\n",
        "\n",
        "\n",
        "* Let's create two more simple examples for the <code>if</code>, <code>elif</code>, and <code>else</code> statements:"
      ]
    },
    {
      "cell_type": "code",
      "metadata": {
        "id": "gclDFcteHnow",
        "colab": {
          "base_uri": "https://localhost:8080/"
        },
        "outputId": "c3aac71d-2272-4dff-fdd5-ab71341ddea4"
      },
      "source": [
        "person = 'Johnny'\n",
        "\n",
        "if person == 'John':\n",
        "    print(f'Welcome {person}!')\n",
        "else:\n",
        "    print(\"Welcome, what's your name?\")"
      ],
      "execution_count": null,
      "outputs": [
        {
          "output_type": "stream",
          "name": "stdout",
          "text": [
            "Welcome, what's your name?\n"
          ]
        }
      ]
    },
    {
      "cell_type": "code",
      "metadata": {
        "id": "b3kcCb1oHnoz",
        "colab": {
          "base_uri": "https://localhost:8080/"
        },
        "outputId": "2fac7caa-8cf2-4d8b-cd98-ded5b57be201"
      },
      "source": [
        "number1 = -2\n",
        "number2 = 9\n",
        "\n",
        "if number1 > 0:\n",
        "  if number2 < 10 :\n",
        "    print(number2 + number1)\n",
        "  else:\n",
        "    print(\"Should be greater than 10\")\n",
        "\n",
        "elif number1 < 0:\n",
        "    print(\"Ah, that's a negative number\")\n",
        "else:\n",
        "    print(\"The number is zero!\")"
      ],
      "execution_count": null,
      "outputs": [
        {
          "output_type": "stream",
          "text": [
            "Ah, that's a negative number\n"
          ],
          "name": "stdout"
        }
      ]
    },
    {
      "cell_type": "markdown",
      "metadata": {
        "id": "2NN-koY-6af9"
      },
      "source": [
        "## <u>Truthy & Falsy</u>\n",
        "\n",
        "### A \"truthy\" value will satisfy the check performed by if or while statements. We use \"truthy\" and \"falsy\" to differentiate from the boolean values True and False."
      ]
    },
    {
      "cell_type": "markdown",
      "metadata": {
        "id": "iAhlDVWQ61kr"
      },
      "source": [
        "### All values are considered \"truthy\" except for the following, which are \"falsy\":\n",
        "\n",
        "* <code>None</code>\n",
        "* <code>False</code>\n",
        "* <code>0</code>\n",
        "* <code>0.0</code>\n",
        "* <code>[]</code> - an empty <code>list</code>\n",
        "* <code>{}</code> - an empty <code>dict</code>\n",
        "* <code>()</code> - an empty <code>tuple</code>\n",
        "* <code>''</code> - an empty <code>str</code>"
      ]
    },
    {
      "cell_type": "code",
      "metadata": {
        "id": "TsUz73an6dQy",
        "colab": {
          "base_uri": "https://localhost:8080/"
        },
        "outputId": "3be82915-303f-4711-cdac-fe5687279f0d"
      },
      "source": [
        "# Consider the following statement\n",
        "\n",
        "if False:\n",
        "  print(\"What do you say?\")\n",
        "else:\n",
        "  print(\"I have nothing to say\")"
      ],
      "execution_count": null,
      "outputs": [
        {
          "output_type": "stream",
          "text": [
            "I have nothing to say\n"
          ],
          "name": "stdout"
        }
      ]
    },
    {
      "cell_type": "code",
      "metadata": {
        "id": "3eaS1zDP7tN3",
        "colab": {
          "base_uri": "https://localhost:8080/"
        },
        "outputId": "676b491d-a5bf-42d7-8e01-55b24eb85ee2"
      },
      "source": [
        "if [None]:\n",
        "  print(\"Well I had a really bad day!\")\n",
        "else:\n",
        "  print(\"Come on you aced your test.\")"
      ],
      "execution_count": null,
      "outputs": [
        {
          "output_type": "stream",
          "text": [
            "Well I had a really bad day!\n"
          ],
          "name": "stdout"
        }
      ]
    },
    {
      "cell_type": "code",
      "metadata": {
        "id": "2kWdK2bt758j",
        "colab": {
          "base_uri": "https://localhost:8080/"
        },
        "outputId": "06a347c3-a88a-4614-f8b9-c4832e71c1df"
      },
      "source": [
        "if {1:2,3:4}:\n",
        "  print(\"This is True\")\n",
        "else:\n",
        "  print(\"This is False\")"
      ],
      "execution_count": null,
      "outputs": [
        {
          "output_type": "stream",
          "text": [
            "This is True\n"
          ],
          "name": "stdout"
        }
      ]
    },
    {
      "cell_type": "code",
      "metadata": {
        "id": "cXFu9xHC-2V-"
      },
      "source": [],
      "execution_count": null,
      "outputs": []
    }
  ]
}