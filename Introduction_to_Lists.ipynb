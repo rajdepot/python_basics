{
  "nbformat": 4,
  "nbformat_minor": 0,
  "metadata": {
    "kernelspec": {
      "display_name": "Python 3",
      "language": "python",
      "name": "python3"
    },
    "language_info": {
      "codemirror_mode": {
        "name": "ipython",
        "version": 3
      },
      "file_extension": ".py",
      "mimetype": "text/x-python",
      "name": "python",
      "nbconvert_exporter": "python",
      "pygments_lexer": "ipython3",
      "version": "3.7.4"
    },
    "colab": {
      "provenance": [],
      "collapsed_sections": [
        "6Qd7qKM1uH3Y",
        "p7d98KoOuH3f",
        "et3AsvCkuH3n",
        "1sitoBoVuH3u",
        "V31491BvuH3z",
        "BgmqyEUHuH4M",
        "tGmbu4MKuH43",
        "rshOIKENuH5F",
        "YBAQ1FyQuH5f",
        "Wheg57npuH5t",
        "avyykdGjuH52",
        "f4JqHtEouH57",
        "-PKIGd9xuH6a"
      ],
      "include_colab_link": true
    }
  },
  "cells": [
    {
      "cell_type": "markdown",
      "metadata": {
        "id": "view-in-github",
        "colab_type": "text"
      },
      "source": [
        "<a href=\"https://colab.research.google.com/github/rajdepot/python_basics/blob/main/Introduction_to_Lists.ipynb\" target=\"_parent\"><img src=\"https://colab.research.google.com/assets/colab-badge.svg\" alt=\"Open In Colab\"/></a>"
      ]
    },
    {
      "cell_type": "markdown",
      "metadata": {
        "id": "t1KX9ExluH05"
      },
      "source": [
        "### Earlier when discussing strings we introduced the concept of a <u>sequence</u> in Python.\n",
        "* <u>Lists</u> can be thought of the most general version of a *sequence* in Python.\n",
        "\n",
        "\n",
        "* Unlike strings, they are mutable, meaning the elements inside a list can be changed!\n",
        "\n",
        "\n",
        "* Lists are constructed with brackets <code>[]</code> and commas separating every element in the list."
      ]
    },
    {
      "cell_type": "code",
      "metadata": {
        "id": "zJALgXvTuH06"
      },
      "source": [
        "# Assign a list to an variable named my_list\n",
        "my_list = [1,2,9,4,'abhijeet']"
      ],
      "execution_count": null,
      "outputs": []
    },
    {
      "cell_type": "code",
      "metadata": {
        "id": "5iyxPTQEuH1A",
        "colab": {
          "base_uri": "https://localhost:8080/"
        },
        "outputId": "6c4ed060-2c1e-4798-cc5c-5bdbc996d7af"
      },
      "source": [
        "print(my_list)"
      ],
      "execution_count": null,
      "outputs": [
        {
          "output_type": "stream",
          "name": "stdout",
          "text": [
            "[1, 2, 9, 4, 'abhijeet']\n"
          ]
        }
      ]
    },
    {
      "cell_type": "code",
      "metadata": {
        "id": "Iwcih5WkuH1F",
        "colab": {
          "base_uri": "https://localhost:8080/"
        },
        "outputId": "f2cd8a45-52f1-411e-88d2-edadbed52985"
      },
      "source": [
        "type(my_list)"
      ],
      "execution_count": null,
      "outputs": [
        {
          "output_type": "execute_result",
          "data": {
            "text/plain": [
              "list"
            ]
          },
          "metadata": {},
          "execution_count": 5
        }
      ]
    },
    {
      "cell_type": "markdown",
      "metadata": {
        "id": "GixOgR0xuH1K"
      },
      "source": [
        "* We just created a list of integers, but lists can actually hold different object types. For example:"
      ]
    },
    {
      "cell_type": "code",
      "metadata": {
        "id": "iYwuNSr5uH1L"
      },
      "source": [
        "my_list = ['A string',23,100.232,'o',True]"
      ],
      "execution_count": null,
      "outputs": []
    },
    {
      "cell_type": "code",
      "metadata": {
        "id": "5v0MmUyBuH1R",
        "colab": {
          "base_uri": "https://localhost:8080/"
        },
        "outputId": "da05e8b4-b7cf-4a73-b401-8e7daad756a4"
      },
      "source": [
        "my_list"
      ],
      "execution_count": null,
      "outputs": [
        {
          "output_type": "execute_result",
          "data": {
            "text/plain": [
              "['A string', 23, 100.232, 'o', True]"
            ]
          },
          "metadata": {},
          "execution_count": 7
        }
      ]
    },
    {
      "cell_type": "markdown",
      "metadata": {
        "id": "KC7536WDuH1W"
      },
      "source": [
        "* Just like strings, the <code>len()</code> function will tell you how many items are in the sequence of the list."
      ]
    },
    {
      "cell_type": "code",
      "metadata": {
        "id": "9c8rQF1ZuH1X",
        "colab": {
          "base_uri": "https://localhost:8080/"
        },
        "outputId": "de7cbe03-25d3-41f7-f323-696862ca2a5d"
      },
      "source": [
        "len(my_list)"
      ],
      "execution_count": null,
      "outputs": [
        {
          "output_type": "execute_result",
          "data": {
            "text/plain": [
              "5"
            ]
          },
          "metadata": {},
          "execution_count": 9
        }
      ]
    },
    {
      "cell_type": "code",
      "source": [
        "my_name = 'Abhijeet'\n",
        "print(len(my_name))"
      ],
      "metadata": {
        "colab": {
          "base_uri": "https://localhost:8080/"
        },
        "id": "ZWq0-bMVglQT",
        "outputId": "07c0f726-8a30-48cb-ce7e-c61654a86cd0"
      },
      "execution_count": null,
      "outputs": [
        {
          "output_type": "stream",
          "name": "stdout",
          "text": [
            "8\n"
          ]
        }
      ]
    },
    {
      "cell_type": "markdown",
      "metadata": {
        "id": "GOoGqqK9uH1c"
      },
      "source": [
        "## List Indexing\n",
        "* Indexing work just like in strings.\n",
        "\n",
        "\n",
        "* A list index refers to the location of an element in a list.\n",
        "\n",
        "\n",
        "* Remember the indexing begins from 0 in Python.\n",
        "\n",
        "\n",
        "* The first element is assigned an index 0, the second element is assigned an index of 1 and so on and so forth."
      ]
    },
    {
      "cell_type": "code",
      "metadata": {
        "id": "h8kC051iuH1e",
        "colab": {
          "base_uri": "https://localhost:8080/"
        },
        "outputId": "1543c255-57d7-49a7-b9c2-9a8a1bf82e8c"
      },
      "source": [
        "# Consider a list of strings\n",
        "loss_functions = ['Mean Absolute Error','Mean Squared Error','Huber Loss','Log Loss','Hinge Loss']\n",
        "print(loss_functions)"
      ],
      "execution_count": null,
      "outputs": [
        {
          "output_type": "stream",
          "name": "stdout",
          "text": [
            "['Mean Absolute Error', 'Mean Squared Error', 'Huber Loss', 'Log Loss', 'Hinge Loss']\n"
          ]
        }
      ]
    },
    {
      "cell_type": "code",
      "metadata": {
        "id": "9Rjv4sHZuH1k",
        "colab": {
          "base_uri": "https://localhost:8080/"
        },
        "outputId": "5809ef6a-8b18-40ac-8c53-82b9f6f57042"
      },
      "source": [
        "# Grab the element at index 0, which is the FIRST element\n",
        "print(loss_functions[1])"
      ],
      "execution_count": null,
      "outputs": [
        {
          "output_type": "stream",
          "name": "stdout",
          "text": [
            "Mean Squared Error\n"
          ]
        }
      ]
    },
    {
      "cell_type": "code",
      "metadata": {
        "colab": {
          "base_uri": "https://localhost:8080/"
        },
        "id": "wkqGy2G-HcFP",
        "outputId": "13c2c081-f932-48bb-d445-b8cb8a667692"
      },
      "source": [
        "len(loss_functions)"
      ],
      "execution_count": null,
      "outputs": [
        {
          "output_type": "execute_result",
          "data": {
            "text/plain": [
              "5"
            ]
          },
          "metadata": {},
          "execution_count": 12
        }
      ]
    },
    {
      "cell_type": "code",
      "metadata": {
        "id": "wy6j6RQluH1q",
        "colab": {
          "base_uri": "https://localhost:8080/"
        },
        "outputId": "75286e74-4326-4f04-b034-a328fb62c67c"
      },
      "source": [
        "# Grab the element at index 3, which is the FOURTH element\n",
        "print(loss_functions[3])"
      ],
      "execution_count": null,
      "outputs": [
        {
          "output_type": "stream",
          "name": "stdout",
          "text": [
            "Log Loss\n"
          ]
        }
      ]
    },
    {
      "cell_type": "code",
      "metadata": {
        "colab": {
          "base_uri": "https://localhost:8080/",
          "height": 176
        },
        "id": "fN0bZ8T5HULs",
        "outputId": "1964d29f-4ff7-4c3e-f9c4-3ded6d51f606"
      },
      "source": [
        "print(loss_functions[6])"
      ],
      "execution_count": null,
      "outputs": [
        {
          "output_type": "error",
          "ename": "IndexError",
          "evalue": "list index out of range",
          "traceback": [
            "\u001b[0;31m---------------------------------------------------------------------------\u001b[0m",
            "\u001b[0;31mIndexError\u001b[0m                                Traceback (most recent call last)",
            "\u001b[0;32m<ipython-input-14-36fa04b37479>\u001b[0m in \u001b[0;36m<cell line: 1>\u001b[0;34m()\u001b[0m\n\u001b[0;32m----> 1\u001b[0;31m \u001b[0mprint\u001b[0m\u001b[0;34m(\u001b[0m\u001b[0mloss_functions\u001b[0m\u001b[0;34m[\u001b[0m\u001b[0;36m6\u001b[0m\u001b[0;34m]\u001b[0m\u001b[0;34m)\u001b[0m\u001b[0;34m\u001b[0m\u001b[0;34m\u001b[0m\u001b[0m\n\u001b[0m",
            "\u001b[0;31mIndexError\u001b[0m: list index out of range"
          ]
        }
      ]
    },
    {
      "cell_type": "code",
      "source": [
        "loss_functions"
      ],
      "metadata": {
        "colab": {
          "base_uri": "https://localhost:8080/"
        },
        "id": "4vAUgUbdiNPt",
        "outputId": "dccb1b5f-38d6-4e7e-e649-40401d557774"
      },
      "execution_count": null,
      "outputs": [
        {
          "output_type": "execute_result",
          "data": {
            "text/plain": [
              "['Mean Absolute Error',\n",
              " 'Mean Squared Error',\n",
              " 'Huber Loss',\n",
              " 'Log Loss',\n",
              " 'Hinge Loss']"
            ]
          },
          "metadata": {},
          "execution_count": 15
        }
      ]
    },
    {
      "cell_type": "code",
      "metadata": {
        "id": "XWYhPYWJuH1w",
        "colab": {
          "base_uri": "https://localhost:8080/"
        },
        "outputId": "d4ee3bfa-ce0c-4610-c7cb-963e4468e202"
      },
      "source": [
        "# Grab the element at the index -1, which is the LAST element\n",
        "print(loss_functions[-1])"
      ],
      "execution_count": null,
      "outputs": [
        {
          "output_type": "stream",
          "name": "stdout",
          "text": [
            "Hinge Loss\n"
          ]
        }
      ]
    },
    {
      "cell_type": "code",
      "metadata": {
        "id": "qVDZolzXuH11",
        "colab": {
          "base_uri": "https://localhost:8080/"
        },
        "outputId": "ba522ff2-9cc4-4314-ce8b-79e5b9c3f72e"
      },
      "source": [
        "# Grab the element at the index -3, which is the THIRD LAST element\n",
        "print(loss_functions[-3])"
      ],
      "execution_count": null,
      "outputs": [
        {
          "output_type": "stream",
          "name": "stdout",
          "text": [
            "Huber Loss\n"
          ]
        }
      ]
    },
    {
      "cell_type": "markdown",
      "source": [
        "Positive indexing starts from 0 and negative indexing starts from -1"
      ],
      "metadata": {
        "id": "xM00_kKniGn_"
      }
    },
    {
      "cell_type": "markdown",
      "metadata": {
        "id": "VyvYPGtYuH16"
      },
      "source": [
        "## List Slicing\n",
        "\n",
        "* We can use a <code>:</code> to perform *slicing* which grabs everything up to a designated point.\n",
        "\n",
        "\n",
        "* The starting index is specified on the left of the <code>:</code> and the ending index is specified on the right of the <code>:</code>.\n",
        "\n",
        "\n",
        "* Remember the element located at the right index is not included."
      ]
    },
    {
      "cell_type": "code",
      "metadata": {
        "id": "rJpgJdnauH16",
        "colab": {
          "base_uri": "https://localhost:8080/"
        },
        "outputId": "880b51a8-78f1-4f17-85a9-a56789223d65"
      },
      "source": [
        "# Print our list\n",
        "print(loss_functions)"
      ],
      "execution_count": null,
      "outputs": [
        {
          "output_type": "stream",
          "name": "stdout",
          "text": [
            "['Mean Absolute Error', 'Mean Squared Error', 'Huber Loss', 'Log Loss', 'Hinge Loss']\n"
          ]
        }
      ]
    },
    {
      "cell_type": "markdown",
      "source": [
        "[0:n] ==> from index 0 to index (n-1)\n",
        "[1:n] ==> from index 1 to index (n-1)\n",
        "[2:n] ==> from index 2 to index (n-1)"
      ],
      "metadata": {
        "id": "UmWJBx-14Mbj"
      }
    },
    {
      "cell_type": "code",
      "metadata": {
        "id": "qkMHWOjpuH1_",
        "colab": {
          "base_uri": "https://localhost:8080/"
        },
        "outputId": "e5011462-7835-4a27-e0cb-3a367dea4f1f"
      },
      "source": [
        "# Grab the elements starting from index 1 and everything past it\n",
        "loss_functions[1:4]"
      ],
      "execution_count": null,
      "outputs": [
        {
          "output_type": "execute_result",
          "data": {
            "text/plain": [
              "['Mean Squared Error', 'Huber Loss', 'Log Loss']"
            ]
          },
          "metadata": {},
          "execution_count": 17
        }
      ]
    },
    {
      "cell_type": "code",
      "source": [
        "loss_functions[:]"
      ],
      "metadata": {
        "colab": {
          "base_uri": "https://localhost:8080/"
        },
        "id": "w90tBfoMjBS3",
        "outputId": "d07585a8-df01-46b3-a335-27b1bb10aea7"
      },
      "execution_count": null,
      "outputs": [
        {
          "output_type": "execute_result",
          "data": {
            "text/plain": [
              "['Mean Absolute Error',\n",
              " 'Mean Squared Error',\n",
              " 'Huber Loss',\n",
              " 'Log Loss',\n",
              " 'Hinge Loss']"
            ]
          },
          "metadata": {},
          "execution_count": 18
        }
      ]
    },
    {
      "cell_type": "markdown",
      "source": [
        "1000 elements in the list == length"
      ],
      "metadata": {
        "id": "m8nnD2h14_K5"
      }
    },
    {
      "cell_type": "code",
      "source": [
        "my_list"
      ],
      "metadata": {
        "colab": {
          "base_uri": "https://localhost:8080/"
        },
        "id": "BuwYNuhYjSpD",
        "outputId": "74496d1f-62bd-456d-eaa1-99317d6d9c8e"
      },
      "execution_count": null,
      "outputs": [
        {
          "output_type": "execute_result",
          "data": {
            "text/plain": [
              "['A string', 23, 100.232, 'o', True]"
            ]
          },
          "metadata": {},
          "execution_count": 20
        }
      ]
    },
    {
      "cell_type": "code",
      "source": [
        "#fetch element number from 30 - 890\n",
        "\n",
        "my_list[30:]"
      ],
      "metadata": {
        "id": "8u_8sjEs5BcW",
        "colab": {
          "base_uri": "https://localhost:8080/"
        },
        "outputId": "19ca7d41-29b3-4e0c-f56d-1bb5c2eaf000"
      },
      "execution_count": null,
      "outputs": [
        {
          "output_type": "execute_result",
          "data": {
            "text/plain": [
              "[]"
            ]
          },
          "metadata": {},
          "execution_count": 19
        }
      ]
    },
    {
      "cell_type": "markdown",
      "metadata": {
        "id": "tRWJVhSPuH2G"
      },
      "source": [
        "* If you do not specify the ending index, then all elements are extracted which comes after the starting index including the element at that starting index. The operation knows only to stop when it has run through the entire list."
      ]
    },
    {
      "cell_type": "code",
      "source": [
        "loss_functions[:]"
      ],
      "metadata": {
        "colab": {
          "base_uri": "https://localhost:8080/"
        },
        "id": "7E2VFBTc4qfk",
        "outputId": "99b56411-a66f-461e-ed11-b5284d595119"
      },
      "execution_count": null,
      "outputs": [
        {
          "output_type": "execute_result",
          "data": {
            "text/plain": [
              "['Mean Absolute Error',\n",
              " 'Mean Squared Error',\n",
              " 'Huber Loss',\n",
              " 'Log Loss',\n",
              " 'Hinge Loss']"
            ]
          },
          "metadata": {},
          "execution_count": 12
        }
      ]
    },
    {
      "cell_type": "code",
      "metadata": {
        "id": "9-210b6YuH2H",
        "colab": {
          "base_uri": "https://localhost:8080/"
        },
        "outputId": "9f0b5ad0-382c-4174-f066-a8dfc69cbcd1"
      },
      "source": [
        "# Grab everything starting from index 2\n",
        "loss_functions[2:]"
      ],
      "execution_count": null,
      "outputs": [
        {
          "output_type": "execute_result",
          "data": {
            "text/plain": [
              "['Huber Loss', 'Log Loss', 'Hinge Loss']"
            ]
          },
          "metadata": {
            "tags": []
          },
          "execution_count": 16
        }
      ]
    },
    {
      "cell_type": "markdown",
      "metadata": {
        "id": "X6H8XIIZuH2M"
      },
      "source": [
        "* If you do not specify the starting index, then all elements are extracted which comes befores the ending index excluding the element at the specified ending index. The operation knows only to stop when it has extracted all elements before the  element at the ending index."
      ]
    },
    {
      "cell_type": "code",
      "metadata": {
        "id": "OzsSfMJwuH2M",
        "colab": {
          "base_uri": "https://localhost:8080/"
        },
        "outputId": "67f68979-8bcc-44c5-f52e-6952a98ff86b"
      },
      "source": [
        "# Grab everything before the index 4\n",
        "loss_functions[:4]"
      ],
      "execution_count": null,
      "outputs": [
        {
          "output_type": "execute_result",
          "data": {
            "text/plain": [
              "['Mean Absolute Error', 'Mean Squared Error', 'Huber Loss', 'Log Loss']"
            ]
          },
          "metadata": {
            "tags": []
          },
          "execution_count": 17
        }
      ]
    },
    {
      "cell_type": "markdown",
      "metadata": {
        "id": "AzM1gvHxuH2R"
      },
      "source": [
        "* If you do not specify the starting and the ending index, it will extract all elements of the list."
      ]
    },
    {
      "cell_type": "code",
      "source": [
        "loss_functions[:]"
      ],
      "metadata": {
        "colab": {
          "base_uri": "https://localhost:8080/"
        },
        "id": "l7rMPeci5jXf",
        "outputId": "c2a3dd3b-2c3a-4ee8-93bb-db6c4edddd3e"
      },
      "execution_count": null,
      "outputs": [
        {
          "output_type": "execute_result",
          "data": {
            "text/plain": [
              "['Mean Absolute Error',\n",
              " 'Mean Squared Error',\n",
              " 'Huber Loss',\n",
              " 'Log Loss',\n",
              " 'Hinge Loss']"
            ]
          },
          "metadata": {},
          "execution_count": 15
        }
      ]
    },
    {
      "cell_type": "code",
      "metadata": {
        "id": "UvgZ2Oi7uH2S",
        "colab": {
          "base_uri": "https://localhost:8080/"
        },
        "outputId": "b661155a-1cc1-4c91-895a-8e01d5fd8dd3"
      },
      "source": [
        "# Grab everything\n",
        "print(loss_functions[:])"
      ],
      "execution_count": null,
      "outputs": [
        {
          "output_type": "stream",
          "text": [
            "['Mean Absolute Error', 'Mean Squared Error', 'Huber Loss', 'Log Loss', 'Hinge Loss']\n"
          ],
          "name": "stdout"
        }
      ]
    },
    {
      "cell_type": "code",
      "source": [
        "loss_functions[2:5]"
      ],
      "metadata": {
        "colab": {
          "base_uri": "https://localhost:8080/"
        },
        "id": "PzkFk-rL6E-M",
        "outputId": "9c4e9c6d-f91d-4d1d-a310-de232a7ebbe7"
      },
      "execution_count": null,
      "outputs": [
        {
          "output_type": "execute_result",
          "data": {
            "text/plain": [
              "['Huber Loss', 'Log Loss', 'Hinge Loss']"
            ]
          },
          "metadata": {},
          "execution_count": 19
        }
      ]
    },
    {
      "cell_type": "code",
      "source": [
        "loss_functions[-3:0]"
      ],
      "metadata": {
        "colab": {
          "base_uri": "https://localhost:8080/"
        },
        "id": "yGJIXuJS6U0f",
        "outputId": "840f4954-66b0-45e6-be85-25dcbf287513"
      },
      "execution_count": null,
      "outputs": [
        {
          "output_type": "execute_result",
          "data": {
            "text/plain": [
              "[]"
            ]
          },
          "metadata": {},
          "execution_count": 22
        }
      ]
    },
    {
      "cell_type": "code",
      "source": [
        "loss_functions"
      ],
      "metadata": {
        "colab": {
          "base_uri": "https://localhost:8080/"
        },
        "id": "0-OsBWspjo_4",
        "outputId": "876f818f-1a35-4c2f-b7c2-48f8711cdeb6"
      },
      "execution_count": null,
      "outputs": [
        {
          "output_type": "execute_result",
          "data": {
            "text/plain": [
              "['Mean Absolute Error',\n",
              " 'Mean Squared Error',\n",
              " 'Huber Loss',\n",
              " 'Log Loss',\n",
              " 'Hinge Loss']"
            ]
          },
          "metadata": {},
          "execution_count": 21
        }
      ]
    },
    {
      "cell_type": "code",
      "source": [
        "# Grab everything\n",
        "print(loss_functions[-3:-1])"
      ],
      "metadata": {
        "colab": {
          "base_uri": "https://localhost:8080/"
        },
        "id": "tThLkk2C56g5",
        "outputId": "860b6262-88c7-40a6-f79e-d0e7a6898e16"
      },
      "execution_count": null,
      "outputs": [
        {
          "output_type": "stream",
          "name": "stdout",
          "text": [
            "['Huber Loss', 'Log Loss']\n"
          ]
        }
      ]
    },
    {
      "cell_type": "code",
      "source": [
        "# Grab everything\n",
        "print(loss_functions[-3:-5])"
      ],
      "metadata": {
        "colab": {
          "base_uri": "https://localhost:8080/"
        },
        "id": "QxER0FbwkES9",
        "outputId": "21f71ddf-55e8-41c0-dcfe-72fcab890658"
      },
      "execution_count": null,
      "outputs": [
        {
          "output_type": "stream",
          "name": "stdout",
          "text": [
            "[]\n"
          ]
        }
      ]
    },
    {
      "cell_type": "markdown",
      "metadata": {
        "id": "JZCjIP2wuH2Y"
      },
      "source": [
        "* We can also extract the last four elements. Remember we can use the index -4 to extract the FOURTH LAST element"
      ]
    },
    {
      "cell_type": "code",
      "metadata": {
        "id": "HO6uu_J3uH2Z",
        "colab": {
          "base_uri": "https://localhost:8080/"
        },
        "outputId": "653f2818-2201-46ee-f282-31b421ceeef3"
      },
      "source": [
        "# Grab the LAST FOUR elements of the list\n",
        "loss_functions[-4:]"
      ],
      "execution_count": null,
      "outputs": [
        {
          "output_type": "execute_result",
          "data": {
            "text/plain": [
              "['Mean Squared Error', 'Huber Loss', 'Log Loss', 'Hinge Loss']"
            ]
          },
          "metadata": {},
          "execution_count": 27
        }
      ]
    },
    {
      "cell_type": "code",
      "metadata": {
        "id": "HhClfN4JoYHm",
        "colab": {
          "base_uri": "https://localhost:8080/",
          "height": 166
        },
        "outputId": "8e6192cd-0a78-4c3b-f7b7-522edc3de69b"
      },
      "source": [
        "loss_functions[-10]"
      ],
      "execution_count": null,
      "outputs": [
        {
          "output_type": "error",
          "ename": "IndexError",
          "evalue": "ignored",
          "traceback": [
            "\u001b[0;31m---------------------------------------------------------------------------\u001b[0m",
            "\u001b[0;31mIndexError\u001b[0m                                Traceback (most recent call last)",
            "\u001b[0;32m<ipython-input-20-8a581720341d>\u001b[0m in \u001b[0;36m<module>\u001b[0;34m()\u001b[0m\n\u001b[0;32m----> 1\u001b[0;31m \u001b[0mloss_functions\u001b[0m\u001b[0;34m[\u001b[0m\u001b[0;34m-\u001b[0m\u001b[0;36m10\u001b[0m\u001b[0;34m]\u001b[0m\u001b[0;34m\u001b[0m\u001b[0;34m\u001b[0m\u001b[0m\n\u001b[0m",
            "\u001b[0;31mIndexError\u001b[0m: list index out of range"
          ]
        }
      ]
    },
    {
      "cell_type": "markdown",
      "metadata": {
        "id": "MFMJCkLtuH2e"
      },
      "source": [
        "* It should also be noted that list indexing will return an error if there is no element at that index."
      ]
    },
    {
      "cell_type": "code",
      "metadata": {
        "id": "ubVmh9dpuH2f",
        "colab": {
          "base_uri": "https://localhost:8080/",
          "height": 34
        },
        "outputId": "4e3e79f9-375f-4caf-fc1a-dcb38091f4fa"
      },
      "source": [
        "len(loss_functions)"
      ],
      "execution_count": null,
      "outputs": [
        {
          "output_type": "execute_result",
          "data": {
            "text/plain": [
              "5"
            ]
          },
          "metadata": {
            "tags": []
          },
          "execution_count": 20
        }
      ]
    },
    {
      "cell_type": "code",
      "metadata": {
        "id": "BSIWnrXvuH2q",
        "colab": {
          "base_uri": "https://localhost:8080/",
          "height": 162
        },
        "outputId": "1b7905b6-8866-42dc-ab40-3ca614a72c82"
      },
      "source": [
        "loss_functions[8]"
      ],
      "execution_count": null,
      "outputs": [
        {
          "output_type": "error",
          "ename": "IndexError",
          "evalue": "ignored",
          "traceback": [
            "\u001b[0;31m---------------------------------------------------------------------------\u001b[0m",
            "\u001b[0;31mIndexError\u001b[0m                                Traceback (most recent call last)",
            "\u001b[0;32m<ipython-input-21-4de3193e7629>\u001b[0m in \u001b[0;36m<module>\u001b[0;34m()\u001b[0m\n\u001b[0;32m----> 1\u001b[0;31m \u001b[0mloss_functions\u001b[0m\u001b[0;34m[\u001b[0m\u001b[0;36m8\u001b[0m\u001b[0;34m]\u001b[0m\u001b[0;34m\u001b[0m\u001b[0;34m\u001b[0m\u001b[0m\n\u001b[0m",
            "\u001b[0;31mIndexError\u001b[0m: list index out of range"
          ]
        }
      ]
    },
    {
      "cell_type": "markdown",
      "metadata": {
        "id": "Sq2OgleGuH23"
      },
      "source": [
        "## List Operations\n",
        "* Remember we said that lists are mutable as opposed to strings. Lets see how can we change the elements of a list"
      ]
    },
    {
      "cell_type": "markdown",
      "metadata": {
        "id": "fDoYdXjFuH24"
      },
      "source": [
        "* We can also use <code>+</code> to concatenate lists, just like we did for strings."
      ]
    },
    {
      "cell_type": "code",
      "metadata": {
        "id": "49GL6IOAqQCe",
        "colab": {
          "base_uri": "https://localhost:8080/"
        },
        "outputId": "3b3b9b1a-dafc-479d-c282-cb0a6ee23e66"
      },
      "source": [
        "print(loss_functions)"
      ],
      "execution_count": null,
      "outputs": [
        {
          "output_type": "stream",
          "name": "stdout",
          "text": [
            "['Mean Absolute Error', 'Mean Squared Error', 'Huber Loss', 'Log Loss', 'Hinge Loss']\n"
          ]
        }
      ]
    },
    {
      "cell_type": "code",
      "metadata": {
        "id": "V0Oc6-O8uH25",
        "colab": {
          "base_uri": "https://localhost:8080/"
        },
        "outputId": "1ec6b32f-304b-4828-c55f-1c97cb75882e"
      },
      "source": [
        "loss_functions + ['Kullback-Leibler']"
      ],
      "execution_count": null,
      "outputs": [
        {
          "output_type": "execute_result",
          "data": {
            "text/plain": [
              "['Mean Absolute Error',\n",
              " 'Mean Squared Error',\n",
              " 'Huber Loss',\n",
              " 'Log Loss',\n",
              " 'Hinge Loss',\n",
              " 'Kullback-Leibler']"
            ]
          },
          "metadata": {},
          "execution_count": 29
        }
      ]
    },
    {
      "cell_type": "markdown",
      "metadata": {
        "id": "_R2ARrFsuH2-"
      },
      "source": [
        "* Note: This doesn't actually change the original list!"
      ]
    },
    {
      "cell_type": "code",
      "metadata": {
        "scrolled": true,
        "id": "FiZFhSgMuH3A",
        "colab": {
          "base_uri": "https://localhost:8080/"
        },
        "outputId": "ba7bda8d-4c54-4273-bfb2-c984625fee7a"
      },
      "source": [
        "print(loss_functions)"
      ],
      "execution_count": null,
      "outputs": [
        {
          "output_type": "stream",
          "name": "stdout",
          "text": [
            "['Mean Absolute Error', 'Mean Squared Error', 'Huber Loss', 'Log Loss', 'Hinge Loss']\n"
          ]
        }
      ]
    },
    {
      "cell_type": "markdown",
      "metadata": {
        "id": "9BC_N9XIuH3E"
      },
      "source": [
        "* You would have to reassign the list to make the change permanent."
      ]
    },
    {
      "cell_type": "code",
      "metadata": {
        "id": "rrAKgXGkuH3E"
      },
      "source": [
        "# Reassign\n",
        "loss_functions = loss_functions + ['Kullback-Leibler']"
      ],
      "execution_count": null,
      "outputs": []
    },
    {
      "cell_type": "code",
      "metadata": {
        "id": "kB1NeeiXuH3I",
        "colab": {
          "base_uri": "https://localhost:8080/"
        },
        "outputId": "7037ab93-cc99-4bee-9b12-00939e798fe5"
      },
      "source": [
        "loss_functions"
      ],
      "execution_count": null,
      "outputs": [
        {
          "output_type": "execute_result",
          "data": {
            "text/plain": [
              "['Mean Absolute Error',\n",
              " 'Mean Squared Error',\n",
              " 'Huber Loss',\n",
              " 'Log Loss',\n",
              " 'Hinge Loss',\n",
              " 'Kullback-Leibler']"
            ]
          },
          "metadata": {},
          "execution_count": 32
        }
      ]
    },
    {
      "cell_type": "markdown",
      "metadata": {
        "id": "kk3-UJ3RuH3N"
      },
      "source": [
        "* We can also use the <code>*</code> for a duplication method similar to strings:"
      ]
    },
    {
      "cell_type": "code",
      "source": [
        "loss_functions * 6"
      ],
      "metadata": {
        "colab": {
          "base_uri": "https://localhost:8080/"
        },
        "id": "Y_04rRm68msm",
        "outputId": "f356f47a-cd3c-4950-acb8-7abb1b61c680"
      },
      "execution_count": null,
      "outputs": [
        {
          "output_type": "execute_result",
          "data": {
            "text/plain": [
              "['Mean Absolute Error',\n",
              " 'Mean Squared Error',\n",
              " 'Huber Loss',\n",
              " 'Log Loss',\n",
              " 'Hinge Loss',\n",
              " 'Kullback-Leibler',\n",
              " 'Mean Absolute Error',\n",
              " 'Mean Squared Error',\n",
              " 'Huber Loss',\n",
              " 'Log Loss',\n",
              " 'Hinge Loss',\n",
              " 'Kullback-Leibler',\n",
              " 'Mean Absolute Error',\n",
              " 'Mean Squared Error',\n",
              " 'Huber Loss',\n",
              " 'Log Loss',\n",
              " 'Hinge Loss',\n",
              " 'Kullback-Leibler',\n",
              " 'Mean Absolute Error',\n",
              " 'Mean Squared Error',\n",
              " 'Huber Loss',\n",
              " 'Log Loss',\n",
              " 'Hinge Loss',\n",
              " 'Kullback-Leibler',\n",
              " 'Mean Absolute Error',\n",
              " 'Mean Squared Error',\n",
              " 'Huber Loss',\n",
              " 'Log Loss',\n",
              " 'Hinge Loss',\n",
              " 'Kullback-Leibler',\n",
              " 'Mean Absolute Error',\n",
              " 'Mean Squared Error',\n",
              " 'Huber Loss',\n",
              " 'Log Loss',\n",
              " 'Hinge Loss',\n",
              " 'Kullback-Leibler']"
            ]
          },
          "metadata": {},
          "execution_count": 33
        }
      ]
    },
    {
      "cell_type": "code",
      "metadata": {
        "id": "b09L4hO7uH3O",
        "colab": {
          "base_uri": "https://localhost:8080/"
        },
        "outputId": "ec1f79a3-5778-41f1-bd75-59af50be9a65"
      },
      "source": [
        "# Make the list double\n",
        "len(loss_functions * 6)"
      ],
      "execution_count": null,
      "outputs": [
        {
          "output_type": "execute_result",
          "data": {
            "text/plain": [
              "36"
            ]
          },
          "metadata": {},
          "execution_count": 34
        }
      ]
    },
    {
      "cell_type": "markdown",
      "metadata": {
        "id": "vPF4zcaEuH3X"
      },
      "source": [
        "## List Functions"
      ]
    },
    {
      "cell_type": "markdown",
      "metadata": {
        "id": "6Qd7qKM1uH3Y"
      },
      "source": [
        "### <code>len()</code>\n",
        "\n",
        "\n",
        "* <code>len()</code> function returns the length of the list"
      ]
    },
    {
      "cell_type": "code",
      "metadata": {
        "id": "EOLMTcMvuH3Z",
        "colab": {
          "base_uri": "https://localhost:8080/"
        },
        "outputId": "20b32c79-c829-48c0-da6f-ded74e1e54b7"
      },
      "source": [
        "print(loss_functions)"
      ],
      "execution_count": null,
      "outputs": [
        {
          "output_type": "stream",
          "name": "stdout",
          "text": [
            "['Mean Absolute Error', 'Mean Squared Error', 'Huber Loss', 'Log Loss', 'Hinge Loss', 'Kullback-Leibler']\n"
          ]
        }
      ]
    },
    {
      "cell_type": "code",
      "metadata": {
        "id": "mNKWrF1wuH3c",
        "colab": {
          "base_uri": "https://localhost:8080/"
        },
        "outputId": "9e682942-545d-4878-8f3f-2cd510a841ad"
      },
      "source": [
        "len(loss_functions)"
      ],
      "execution_count": null,
      "outputs": [
        {
          "output_type": "execute_result",
          "data": {
            "text/plain": [
              "6"
            ]
          },
          "metadata": {},
          "execution_count": 36
        }
      ]
    },
    {
      "cell_type": "code",
      "source": [
        "min(loss_functions)"
      ],
      "metadata": {
        "colab": {
          "base_uri": "https://localhost:8080/",
          "height": 35
        },
        "id": "2oqeKTMo9ErW",
        "outputId": "a9914a6e-cc3a-40d8-82a5-7a569e7e4fb4"
      },
      "execution_count": null,
      "outputs": [
        {
          "output_type": "execute_result",
          "data": {
            "text/plain": [
              "'Hinge Loss'"
            ],
            "application/vnd.google.colaboratory.intrinsic+json": {
              "type": "string"
            }
          },
          "metadata": {},
          "execution_count": 37
        }
      ]
    },
    {
      "cell_type": "markdown",
      "metadata": {
        "id": "p7d98KoOuH3f"
      },
      "source": [
        "### <code>min()</code>\n",
        "\n",
        "\n",
        "* <code>min()</code> function returns the minimum element of the list\n",
        "\n",
        "\n",
        "* <code>min()</code> function only works with lists of similar data types"
      ]
    },
    {
      "cell_type": "code",
      "metadata": {
        "id": "wLccOV7wuH3f"
      },
      "source": [
        "new_list = [6, 9, -8, 3, 5.5]"
      ],
      "execution_count": null,
      "outputs": []
    },
    {
      "cell_type": "code",
      "metadata": {
        "id": "Y2Cu7bw0uH3j",
        "colab": {
          "base_uri": "https://localhost:8080/"
        },
        "outputId": "8b288ecc-4fec-4674-ead8-809beaf09a3f"
      },
      "source": [
        "min(new_list)"
      ],
      "execution_count": null,
      "outputs": [
        {
          "output_type": "execute_result",
          "data": {
            "text/plain": [
              "-8"
            ]
          },
          "metadata": {},
          "execution_count": 44
        }
      ]
    },
    {
      "cell_type": "code",
      "metadata": {
        "id": "CE51jhX2Os8i"
      },
      "source": [
        "my_new_list = ['a','b', 'z' ,'y' , 'm']"
      ],
      "execution_count": null,
      "outputs": []
    },
    {
      "cell_type": "code",
      "metadata": {
        "colab": {
          "base_uri": "https://localhost:8080/",
          "height": 35
        },
        "id": "xU0MNka-OzHv",
        "outputId": "e1e11208-da76-4500-8567-9545dd329f4a"
      },
      "source": [
        "min(my_new_list)"
      ],
      "execution_count": null,
      "outputs": [
        {
          "output_type": "execute_result",
          "data": {
            "text/plain": [
              "'a'"
            ],
            "application/vnd.google.colaboratory.intrinsic+json": {
              "type": "string"
            }
          },
          "metadata": {},
          "execution_count": 59
        }
      ]
    },
    {
      "cell_type": "markdown",
      "metadata": {
        "id": "et3AsvCkuH3n"
      },
      "source": [
        "### <code>max()</code>\n",
        "\n",
        "\n",
        "* <code>max()</code> function returns the maximum element of the list\n",
        "\n",
        "\n",
        "* <code>max()</code> function only works with lists of similar data types"
      ]
    },
    {
      "cell_type": "code",
      "metadata": {
        "id": "ehW2DQUouH3o"
      },
      "source": [
        "new_list = ['Argue','Burglar','Parent','Linear','shape']"
      ],
      "execution_count": null,
      "outputs": []
    },
    {
      "cell_type": "code",
      "metadata": {
        "id": "oexyHaR1uH3r",
        "colab": {
          "base_uri": "https://localhost:8080/",
          "height": 35
        },
        "outputId": "9cbe20b5-637f-4c7d-b3e5-1b349908203f"
      },
      "source": [
        "max(new_list)"
      ],
      "execution_count": null,
      "outputs": [
        {
          "output_type": "execute_result",
          "data": {
            "text/plain": [
              "'shape'"
            ],
            "application/vnd.google.colaboratory.intrinsic+json": {
              "type": "string"
            }
          },
          "metadata": {},
          "execution_count": 47
        }
      ]
    },
    {
      "cell_type": "markdown",
      "metadata": {
        "id": "1sitoBoVuH3u"
      },
      "source": [
        "### <code>sum()</code>\n",
        "\n",
        "\n",
        "* <code>sum()</code> function returns the sum of the elements of the list\n",
        "\n",
        "\n",
        "* <code>sum()</code> function only works with lists of numeric data types"
      ]
    },
    {
      "cell_type": "code",
      "metadata": {
        "id": "cXT_0utXuH3u"
      },
      "source": [
        "new_list = [6, 9, 1, 3, 5.5]"
      ],
      "execution_count": null,
      "outputs": []
    },
    {
      "cell_type": "code",
      "metadata": {
        "id": "tV5c5mkGuH3x",
        "colab": {
          "base_uri": "https://localhost:8080/"
        },
        "outputId": "07e0be4d-8f92-4022-bfdd-73aa4aeb62d4"
      },
      "source": [
        "sum(new_list)"
      ],
      "execution_count": null,
      "outputs": [
        {
          "output_type": "execute_result",
          "data": {
            "text/plain": [
              "24.5"
            ]
          },
          "metadata": {},
          "execution_count": 61
        }
      ]
    },
    {
      "cell_type": "markdown",
      "metadata": {
        "id": "V31491BvuH3z"
      },
      "source": [
        "### <code>sorted()</code>\n",
        "\n",
        "\n",
        "* <code>sorted()</code> function returns the sorted list\n",
        "\n",
        "\n",
        "* <code>sorted()</code> function takes reverse boolean as an argument\n",
        "\n",
        "\n",
        "* <code>sorted()</code> function only works on a list with similar data types"
      ]
    },
    {
      "cell_type": "code",
      "metadata": {
        "id": "yXeGjCRCuH30",
        "colab": {
          "base_uri": "https://localhost:8080/"
        },
        "outputId": "18b32a3d-ce72-4f44-a098-392d060e0053"
      },
      "source": [
        "new_list"
      ],
      "execution_count": null,
      "outputs": [
        {
          "output_type": "execute_result",
          "data": {
            "text/plain": [
              "[6, 9, 1, 3, 5.5]"
            ]
          },
          "metadata": {},
          "execution_count": 62
        }
      ]
    },
    {
      "cell_type": "code",
      "metadata": {
        "id": "RoS_1mnyuH34",
        "colab": {
          "base_uri": "https://localhost:8080/"
        },
        "outputId": "157880cc-3055-4062-865b-93f132a54837"
      },
      "source": [
        "sorted(new_list)"
      ],
      "execution_count": null,
      "outputs": [
        {
          "output_type": "execute_result",
          "data": {
            "text/plain": [
              "[1, 3, 5.5, 6, 9]"
            ]
          },
          "metadata": {},
          "execution_count": 63
        }
      ]
    },
    {
      "cell_type": "code",
      "metadata": {
        "colab": {
          "base_uri": "https://localhost:8080/"
        },
        "id": "0gQjBslbRFLH",
        "outputId": "a2a0f7d4-50ed-4c9f-b5c9-5ffec97c025c"
      },
      "source": [
        "print(new_list)"
      ],
      "execution_count": null,
      "outputs": [
        {
          "output_type": "stream",
          "name": "stdout",
          "text": [
            "[6, 9, 1, 3, 5.5]\n"
          ]
        }
      ]
    },
    {
      "cell_type": "code",
      "metadata": {
        "id": "4t5yFdfLuJZi"
      },
      "source": [
        "new_list = ['Argue','Burglar','Parent','Linear','shape']"
      ],
      "execution_count": null,
      "outputs": []
    },
    {
      "cell_type": "code",
      "metadata": {
        "id": "PSPWx6EDuKw_",
        "colab": {
          "base_uri": "https://localhost:8080/"
        },
        "outputId": "aa2bf29e-e913-42dd-a282-476f9c9fa893"
      },
      "source": [
        "sorted(new_list)"
      ],
      "execution_count": null,
      "outputs": [
        {
          "output_type": "execute_result",
          "data": {
            "text/plain": [
              "['Argue', 'Burglar', 'Linear', 'Parent', 'shape']"
            ]
          },
          "metadata": {},
          "execution_count": 66
        }
      ]
    },
    {
      "cell_type": "code",
      "metadata": {
        "id": "YAybCJVUtElx",
        "colab": {
          "base_uri": "https://localhost:8080/"
        },
        "outputId": "436b9f8f-f29d-422f-e5e8-aec07c7f0df1"
      },
      "source": [
        "print(new_list)"
      ],
      "execution_count": null,
      "outputs": [
        {
          "output_type": "stream",
          "name": "stdout",
          "text": [
            "['Argue', 'Burglar', 'Parent', 'Linear', 'shape']\n"
          ]
        }
      ]
    },
    {
      "cell_type": "code",
      "metadata": {
        "id": "qh3oquvquH38",
        "colab": {
          "base_uri": "https://localhost:8080/"
        },
        "outputId": "f0e12201-964e-4f87-9f04-284852382431"
      },
      "source": [
        "sorted(new_list,reverse=True)"
      ],
      "execution_count": null,
      "outputs": [
        {
          "output_type": "execute_result",
          "data": {
            "text/plain": [
              "['shape', 'Parent', 'Linear', 'Burglar', 'Argue']"
            ]
          },
          "metadata": {},
          "execution_count": 68
        }
      ]
    },
    {
      "cell_type": "code",
      "metadata": {
        "colab": {
          "base_uri": "https://localhost:8080/"
        },
        "id": "e-eFh2jKRvJv",
        "outputId": "d0cd3726-c7c7-438f-e098-9454071c9b72"
      },
      "source": [
        "sorted(new_list)"
      ],
      "execution_count": null,
      "outputs": [
        {
          "output_type": "execute_result",
          "data": {
            "text/plain": [
              "['Argue', 'Burglar', 'Linear', 'Parent', 'shape']"
            ]
          },
          "metadata": {},
          "execution_count": 69
        }
      ]
    },
    {
      "cell_type": "markdown",
      "metadata": {
        "id": "m4XdxpZHuH4B"
      },
      "source": [
        "* <code>sorted()</code> function does not change our list"
      ]
    },
    {
      "cell_type": "code",
      "metadata": {
        "id": "3y-kuB8tuH4B",
        "colab": {
          "base_uri": "https://localhost:8080/"
        },
        "outputId": "3f51a5b1-66be-4ca6-8d27-169fb59e2faf"
      },
      "source": [
        "new_list"
      ],
      "execution_count": null,
      "outputs": [
        {
          "output_type": "execute_result",
          "data": {
            "text/plain": [
              "['Argue', 'Burglar', 'Parent', 'Linear', 'shape']"
            ]
          },
          "metadata": {},
          "execution_count": 70
        }
      ]
    },
    {
      "cell_type": "markdown",
      "metadata": {
        "id": "gzCO-o-1uH4F"
      },
      "source": [
        "## List Methods\n",
        "\n",
        "* If you are familiar with another programming language, you might start to draw parallels between arrays in another language and lists in Python. Lists in Python however, tend to be more flexible than arrays in other languages for a two good reasons: they have no fixed size (meaning we don't have to specify how big a list will be), and they have no fixed type constraint (like we've seen above).\n",
        "\n",
        "\n",
        "* Let's go ahead and explore some more special methods for lists:"
      ]
    },
    {
      "cell_type": "code",
      "metadata": {
        "id": "q-kfah9VuH4H"
      },
      "source": [
        "# Create a new list\n",
        "my_list = [1,2,3,1,1,1,3,10,5,8]"
      ],
      "execution_count": null,
      "outputs": []
    },
    {
      "cell_type": "markdown",
      "metadata": {
        "id": "BgmqyEUHuH4M"
      },
      "source": [
        "### <code>append()</code>\n",
        "\n",
        "* Use the <code>append()</code> method to permanently add an item to the end of a list.\n",
        "\n",
        "\n",
        "* <code>append()</code> method takes the element which you want to add to the list as an argument"
      ]
    },
    {
      "cell_type": "code",
      "metadata": {
        "id": "saQ5SspXuH4M",
        "colab": {
          "base_uri": "https://localhost:8080/"
        },
        "outputId": "8f4a1dc8-21b7-4dbb-c964-94635722bb14"
      },
      "source": [
        "# Print the list\n",
        "my_list"
      ],
      "execution_count": null,
      "outputs": [
        {
          "output_type": "execute_result",
          "data": {
            "text/plain": [
              "[1, 2, 3, 1, 1, 1, 3, 10, 5, 8]"
            ]
          },
          "metadata": {},
          "execution_count": 72
        }
      ]
    },
    {
      "cell_type": "code",
      "metadata": {
        "id": "gVdtMuXOurNk",
        "colab": {
          "base_uri": "https://localhost:8080/"
        },
        "outputId": "3b0d77f7-0470-4a04-a9bb-7fb1bd4449c1"
      },
      "source": [
        "len(my_list)"
      ],
      "execution_count": null,
      "outputs": [
        {
          "output_type": "execute_result",
          "data": {
            "text/plain": [
              "10"
            ]
          },
          "metadata": {},
          "execution_count": 73
        }
      ]
    },
    {
      "cell_type": "code",
      "metadata": {
        "id": "byL4_5EruH4Q"
      },
      "source": [
        "# Append to the end of the list\n",
        "my_list.append('Append me!')"
      ],
      "execution_count": null,
      "outputs": []
    },
    {
      "cell_type": "markdown",
      "metadata": {
        "id": "7yniA300uH4V"
      },
      "source": [
        "* Ah darn it! I was expecting some output. Lets see what happened to <code>my_list</code>"
      ]
    },
    {
      "cell_type": "code",
      "metadata": {
        "id": "t1qW2S6SuH4W",
        "colab": {
          "base_uri": "https://localhost:8080/"
        },
        "outputId": "96ae5d7a-e980-4a43-e008-b51b4c8aae20"
      },
      "source": [
        "print(my_list)"
      ],
      "execution_count": null,
      "outputs": [
        {
          "output_type": "stream",
          "name": "stdout",
          "text": [
            "[1, 2, 3, 1, 1, 1, 3, 10, 5, 8, 'Append me!']\n"
          ]
        }
      ]
    },
    {
      "cell_type": "code",
      "source": [],
      "metadata": {
        "id": "7LiZT3tH_MVn"
      },
      "execution_count": null,
      "outputs": []
    },
    {
      "cell_type": "code",
      "metadata": {
        "colab": {
          "base_uri": "https://localhost:8080/"
        },
        "id": "9BMYgas1XeYO",
        "outputId": "e3e49eca-1611-428c-f34b-b1d131fdf0ce"
      },
      "source": [
        "len(my_list)"
      ],
      "execution_count": null,
      "outputs": [
        {
          "output_type": "execute_result",
          "data": {
            "text/plain": [
              "11"
            ]
          },
          "metadata": {},
          "execution_count": 76
        }
      ]
    },
    {
      "cell_type": "markdown",
      "metadata": {
        "id": "L4UT-17_uH4c"
      },
      "source": [
        "* Woah! Calling the <code>append()</code> method changed my list? Yes, the <code>append()</code>  method changes your original list!"
      ]
    },
    {
      "cell_type": "code",
      "metadata": {
        "id": "_llNxOVDuH4c"
      },
      "source": [
        "# Show\n",
        "my_list.append(2.73)"
      ],
      "execution_count": null,
      "outputs": []
    },
    {
      "cell_type": "code",
      "metadata": {
        "id": "dc-ercdKuH4h",
        "colab": {
          "base_uri": "https://localhost:8080/"
        },
        "outputId": "e8af199a-36ae-4615-e9e9-9e2e5fed2f49"
      },
      "source": [
        "print(my_list)"
      ],
      "execution_count": null,
      "outputs": [
        {
          "output_type": "stream",
          "name": "stdout",
          "text": [
            "[1, 2, 3, 1, 1, 1, 3, 10, 5, 8, 'Append me!', 2.73]\n"
          ]
        }
      ]
    },
    {
      "cell_type": "markdown",
      "metadata": {
        "id": "3NrEzBJFuH4u"
      },
      "source": [
        "* We can in fact add a list object to our <code>my_list</code> object"
      ]
    },
    {
      "cell_type": "code",
      "metadata": {
        "id": "xIMMzSLNuH4u"
      },
      "source": [
        "my_list.append([1,2,3])"
      ],
      "execution_count": null,
      "outputs": []
    },
    {
      "cell_type": "code",
      "metadata": {
        "id": "CjjTg7jAuH4y",
        "colab": {
          "base_uri": "https://localhost:8080/"
        },
        "outputId": "0ae3d536-a35b-4a18-e11c-3961e8ec58ed"
      },
      "source": [
        "my_list"
      ],
      "execution_count": null,
      "outputs": [
        {
          "output_type": "execute_result",
          "data": {
            "text/plain": [
              "[1, 2, 3, 1, 1, 1, 3, 10, 5, 8, 'Append me!', 2.73, [1, 2, 3]]"
            ]
          },
          "metadata": {},
          "execution_count": 80
        }
      ]
    },
    {
      "cell_type": "code",
      "metadata": {
        "colab": {
          "base_uri": "https://localhost:8080/"
        },
        "id": "vd8gGikTYUF4",
        "outputId": "fc9dc1e1-1ded-482f-8848-c4c56c831c2c"
      },
      "source": [
        "len(my_list)"
      ],
      "execution_count": null,
      "outputs": [
        {
          "output_type": "execute_result",
          "data": {
            "text/plain": [
              "13"
            ]
          },
          "metadata": {},
          "execution_count": 81
        }
      ]
    },
    {
      "cell_type": "code",
      "metadata": {
        "id": "tPnUf3nbYgqs"
      },
      "source": [
        "my_list.append([10,[19,20],30])"
      ],
      "execution_count": null,
      "outputs": []
    },
    {
      "cell_type": "code",
      "metadata": {
        "colab": {
          "base_uri": "https://localhost:8080/"
        },
        "id": "Blq4mDwXYme1",
        "outputId": "8669bad6-6817-4a11-b993-1ef7c676a479"
      },
      "source": [
        "len(my_list)"
      ],
      "execution_count": null,
      "outputs": [
        {
          "output_type": "execute_result",
          "data": {
            "text/plain": [
              "14"
            ]
          },
          "metadata": {},
          "execution_count": 84
        }
      ]
    },
    {
      "cell_type": "markdown",
      "metadata": {
        "id": "tGmbu4MKuH43"
      },
      "source": [
        "### <code>extend()</code>\n",
        "\n",
        "* Use the <code> extend()</code> method to merge a list to an existing list\n",
        "\n",
        "\n",
        "* <code> extend()</code> method takes a list or any iterable(don't worry about it now) as an argument.\n",
        "\n",
        "\n",
        "* Quite helpful when you have two or more lists and you want to merge them together"
      ]
    },
    {
      "cell_type": "code",
      "metadata": {
        "id": "yvkbC_3uuH43",
        "colab": {
          "base_uri": "https://localhost:8080/"
        },
        "outputId": "774bc90b-03af-4c36-954d-bed6dfca17f5"
      },
      "source": [
        "# Print the list\n",
        "print(my_list)"
      ],
      "execution_count": null,
      "outputs": [
        {
          "output_type": "stream",
          "name": "stdout",
          "text": [
            "[1, 2, 3, 1, 1, 1, 3, 10, 5, 8, 'Append me!', 2.73, [1, 2, 3], [10, [19, 20], 30]]\n"
          ]
        }
      ]
    },
    {
      "cell_type": "code",
      "metadata": {
        "id": "gdvUZUYEuH49"
      },
      "source": [
        "my_list.extend(['Wubba','Lubba','Dub Dub'])"
      ],
      "execution_count": null,
      "outputs": []
    },
    {
      "cell_type": "code",
      "metadata": {
        "id": "PU-1mE1xuH5A",
        "colab": {
          "base_uri": "https://localhost:8080/"
        },
        "outputId": "6b411585-7e42-49d6-9560-1cf3991e06cd"
      },
      "source": [
        "print(my_list)"
      ],
      "execution_count": null,
      "outputs": [
        {
          "output_type": "stream",
          "name": "stdout",
          "text": [
            "[1, 2, 3, 1, 1, 1, 3, 10, 5, 8, 'Append me!', 2.73, [1, 2, 3], [10, [19, 20], 30], 'Wubba', 'Lubba', 'Dub Dub']\n"
          ]
        }
      ]
    },
    {
      "cell_type": "code",
      "source": [
        "my_list.append(['Wubba','Lubba','Dub Dub'])"
      ],
      "metadata": {
        "id": "Zgteu6ahn2I5"
      },
      "execution_count": null,
      "outputs": []
    },
    {
      "cell_type": "code",
      "source": [
        "print(my_list)"
      ],
      "metadata": {
        "colab": {
          "base_uri": "https://localhost:8080/"
        },
        "id": "7gjRRSJNoDfd",
        "outputId": "3cf262fa-01af-4349-9a0f-e73400aa2a6a"
      },
      "execution_count": null,
      "outputs": [
        {
          "output_type": "stream",
          "name": "stdout",
          "text": [
            "[1, 2, 3, 1, 1, 1, 3, 10, 5, 8, 'Append me!', 2.73, [1, 2, 3], [10, [19, 20], 30], 'Wubba', 'Lubba', 'Dub Dub', ['Wubba', 'Lubba', 'Dub Dub']]\n"
          ]
        }
      ]
    },
    {
      "cell_type": "code",
      "metadata": {
        "colab": {
          "base_uri": "https://localhost:8080/"
        },
        "id": "hQo7GQA0aDIz",
        "outputId": "fc80ed40-0c60-4e4a-88ca-74a3be3b63e9"
      },
      "source": [
        "len(my_list)"
      ],
      "execution_count": null,
      "outputs": [
        {
          "output_type": "execute_result",
          "data": {
            "text/plain": [
              "18"
            ]
          },
          "metadata": {},
          "execution_count": 90
        }
      ]
    },
    {
      "cell_type": "markdown",
      "metadata": {
        "id": "rshOIKENuH5F"
      },
      "source": [
        "### <code>pop()</code>\n",
        "\n",
        "* Use <code>pop()</code> to \"pop off\" an item from the list.\n",
        "\n",
        "\n",
        "* By default <code>pop()</code> takes off the element at the last index, but you can also specify which index to pop off.\n",
        "\n",
        "\n",
        "* <code>pop()</code> takes the index as an argument and returns the elenent which was popped off."
      ]
    },
    {
      "cell_type": "code",
      "metadata": {
        "id": "fhLzeQHYuH5G",
        "colab": {
          "base_uri": "https://localhost:8080/"
        },
        "outputId": "f8c8a0f1-11c2-4b6c-ddd2-93ab7ea04f1f"
      },
      "source": [
        "# Print the list\n",
        "print(my_list)"
      ],
      "execution_count": null,
      "outputs": [
        {
          "output_type": "stream",
          "name": "stdout",
          "text": [
            "[1, 2, 3, 1, 1, 1, 3, 10, 5, 8, 'Append me!', 2.73, [1, 2, 3], [10, [19, 20], 30], 'Wubba', 'Lubba', 'Dub Dub', ['Wubba', 'Lubba', 'Dub Dub']]\n"
          ]
        }
      ]
    },
    {
      "cell_type": "code",
      "metadata": {
        "id": "k1OLmtIquH5M",
        "colab": {
          "base_uri": "https://localhost:8080/"
        },
        "outputId": "8dd01f11-7733-4e20-e9a1-fe0bc798f53b"
      },
      "source": [
        "# Pop off the 0 indexed item\n",
        "my_list.pop()"
      ],
      "execution_count": null,
      "outputs": [
        {
          "output_type": "execute_result",
          "data": {
            "text/plain": [
              "['Wubba', 'Lubba', 'Dub Dub']"
            ]
          },
          "metadata": {},
          "execution_count": 92
        }
      ]
    },
    {
      "cell_type": "code",
      "source": [
        "# Pop off the 0 indexed item\n",
        "my_list.pop()"
      ],
      "metadata": {
        "colab": {
          "base_uri": "https://localhost:8080/",
          "height": 35
        },
        "id": "rtfDeUislEMq",
        "outputId": "7c5ec353-e056-4d38-9181-10043f42eb35"
      },
      "execution_count": null,
      "outputs": [
        {
          "output_type": "execute_result",
          "data": {
            "text/plain": [
              "'Dub Dub'"
            ],
            "application/vnd.google.colaboratory.intrinsic+json": {
              "type": "string"
            }
          },
          "metadata": {},
          "execution_count": 93
        }
      ]
    },
    {
      "cell_type": "code",
      "source": [
        "# Pop off the 0 indexed item\n",
        "my_list.pop()"
      ],
      "metadata": {
        "colab": {
          "base_uri": "https://localhost:8080/",
          "height": 35
        },
        "id": "CfuKaDaJlFtc",
        "outputId": "811a7a81-9f55-4116-d939-65909e56d0a4"
      },
      "execution_count": null,
      "outputs": [
        {
          "output_type": "execute_result",
          "data": {
            "text/plain": [
              "'Lubba'"
            ],
            "application/vnd.google.colaboratory.intrinsic+json": {
              "type": "string"
            }
          },
          "metadata": {},
          "execution_count": 94
        }
      ]
    },
    {
      "cell_type": "code",
      "source": [
        "# Pop off the 0 indexed item\n",
        "my_list.pop()"
      ],
      "metadata": {
        "colab": {
          "base_uri": "https://localhost:8080/",
          "height": 35
        },
        "id": "QATR8-WwlGwz",
        "outputId": "8c8a19c6-5d25-4871-e4d9-e67431e94414"
      },
      "execution_count": null,
      "outputs": [
        {
          "output_type": "execute_result",
          "data": {
            "text/plain": [
              "'Wubba'"
            ],
            "application/vnd.google.colaboratory.intrinsic+json": {
              "type": "string"
            }
          },
          "metadata": {},
          "execution_count": 95
        }
      ]
    },
    {
      "cell_type": "markdown",
      "metadata": {
        "id": "SNWR6QjouH5Q"
      },
      "source": [
        "* <code>pop()</code> method changes the list by popping off the element at the specified index"
      ]
    },
    {
      "cell_type": "code",
      "metadata": {
        "id": "TFiATwmXuH5R",
        "colab": {
          "base_uri": "https://localhost:8080/"
        },
        "outputId": "9d93e5f1-d266-4905-a875-b6cd807f7604"
      },
      "source": [
        "print(my_list)"
      ],
      "execution_count": null,
      "outputs": [
        {
          "output_type": "stream",
          "name": "stdout",
          "text": [
            "[1, 2, 3, 1, 1, 1, 3, 10, 5, 8, 'Append me!', 2.73, [1, 2, 3], [10, [19, 20], 30]]\n"
          ]
        }
      ]
    },
    {
      "cell_type": "code",
      "source": [
        "print(my_list)"
      ],
      "metadata": {
        "colab": {
          "base_uri": "https://localhost:8080/"
        },
        "id": "0VdZzywUBStv",
        "outputId": "767932bc-0572-4ad7-e325-fb7bffdfe6dc"
      },
      "execution_count": null,
      "outputs": [
        {
          "output_type": "stream",
          "name": "stdout",
          "text": [
            "[1, 2, 3, 1, 1, 1, 3, 10, 5, 8, 'Append me!', 2.73, [1, 2, 3], [10, [19, 20], 30]]\n"
          ]
        }
      ]
    },
    {
      "cell_type": "code",
      "metadata": {
        "id": "33cAUa7wuH5V",
        "colab": {
          "base_uri": "https://localhost:8080/"
        },
        "outputId": "d5dcf65a-fe4e-4168-840d-de373da21684"
      },
      "source": [
        "# Assign the popped element, remember default popped index is -1\n",
        "my_list.pop(-2)"
      ],
      "execution_count": null,
      "outputs": [
        {
          "output_type": "execute_result",
          "data": {
            "text/plain": [
              "[1, 2, 3]"
            ]
          },
          "metadata": {},
          "execution_count": 98
        }
      ]
    },
    {
      "cell_type": "code",
      "metadata": {
        "id": "qX6eae3UuH5c",
        "colab": {
          "base_uri": "https://localhost:8080/"
        },
        "outputId": "551ee538-41fe-4428-9b72-1828459f8339"
      },
      "source": [
        "len(my_list)"
      ],
      "execution_count": null,
      "outputs": [
        {
          "output_type": "execute_result",
          "data": {
            "text/plain": [
              "13"
            ]
          },
          "metadata": {},
          "execution_count": 99
        }
      ]
    },
    {
      "cell_type": "code",
      "metadata": {
        "id": "pHi_Ws8uw0w0",
        "colab": {
          "base_uri": "https://localhost:8080/"
        },
        "outputId": "289f49db-720d-44d2-a23d-7048c2152b5c"
      },
      "source": [
        "print(my_list)"
      ],
      "execution_count": null,
      "outputs": [
        {
          "output_type": "stream",
          "name": "stdout",
          "text": [
            "[1, 2, 3, 1, 1, 1, 3, 10, 5, 8, 'Append me!', 2.73, [10, [19, 20], 30]]\n"
          ]
        }
      ]
    },
    {
      "cell_type": "markdown",
      "metadata": {
        "id": "YBAQ1FyQuH5f"
      },
      "source": [
        "### <code>remove()</code>\n",
        "\n",
        "* Use <code>remove()</code> to remove an item/element from the list.\n",
        "\n",
        "\n",
        "* By default <code>remove()</code> removes the specified element from the list.\n",
        "\n",
        "\n",
        "* <code>remove()</code> takes the element as an argument."
      ]
    },
    {
      "cell_type": "code",
      "metadata": {
        "id": "j9pp3cEJuH5g",
        "colab": {
          "base_uri": "https://localhost:8080/"
        },
        "outputId": "54605d02-0db9-4f8d-d4c2-4e7496e3ed70"
      },
      "source": [
        "# Print the list\n",
        "print(my_list)"
      ],
      "execution_count": null,
      "outputs": [
        {
          "output_type": "stream",
          "text": [
            "[1, 2, 3, 1, 1, 1, 3, 10, 5, 8, 'Append me!', 2.73, [1, 2, 3], [10, [19, 20], 30], 'Wubba']\n"
          ],
          "name": "stdout"
        }
      ]
    },
    {
      "cell_type": "code",
      "metadata": {
        "id": "pTPu7lszuH5j"
      },
      "source": [
        "# Remove the element which you want to\n",
        "my_list.remove([10, [19, 20], 30])"
      ],
      "execution_count": null,
      "outputs": []
    },
    {
      "cell_type": "code",
      "metadata": {
        "id": "wI2Yz2UYuH5p",
        "colab": {
          "base_uri": "https://localhost:8080/"
        },
        "outputId": "7869e1cf-2e5a-48ad-86b8-131ba87df250"
      },
      "source": [
        "# Show\n",
        "print(my_list)"
      ],
      "execution_count": null,
      "outputs": [
        {
          "output_type": "stream",
          "text": [
            "[1, 2, 3, 1, 1, 1, 3, 10, 5, 8, 'Append me!', 2.73, [1, 2, 3], 'Wubba']\n"
          ],
          "name": "stdout"
        }
      ]
    },
    {
      "cell_type": "code",
      "metadata": {
        "id": "OWn2q_6cxYo2"
      },
      "source": [
        "my_list.remove([1,2,3])"
      ],
      "execution_count": null,
      "outputs": []
    },
    {
      "cell_type": "code",
      "metadata": {
        "id": "D_duqvRJxd16",
        "colab": {
          "base_uri": "https://localhost:8080/"
        },
        "outputId": "fbbca78e-e6d6-4e35-c09b-7012e936f468"
      },
      "source": [
        "print(my_list)"
      ],
      "execution_count": null,
      "outputs": [
        {
          "output_type": "stream",
          "text": [
            "[1, 2, 3, 1, 1, 1, 3, 10, 5, 8, 'Append me!', 2.73, 'Wubba']\n"
          ],
          "name": "stdout"
        }
      ]
    },
    {
      "cell_type": "code",
      "metadata": {
        "id": "i8h8-qVtxhPI",
        "colab": {
          "base_uri": "https://localhost:8080/",
          "height": 34
        },
        "outputId": "e44f91cd-7959-4c28-b7f1-a536c7a6bc31"
      },
      "source": [
        "len(my_list)"
      ],
      "execution_count": null,
      "outputs": [
        {
          "output_type": "execute_result",
          "data": {
            "text/plain": [
              "12"
            ]
          },
          "metadata": {
            "tags": []
          },
          "execution_count": 158
        }
      ]
    },
    {
      "cell_type": "code",
      "metadata": {
        "id": "f5-UZ88Exwth"
      },
      "source": [
        "my_list.remove(1)"
      ],
      "execution_count": null,
      "outputs": []
    },
    {
      "cell_type": "code",
      "metadata": {
        "id": "d3WxCp0Cxzty",
        "colab": {
          "base_uri": "https://localhost:8080/",
          "height": 34
        },
        "outputId": "07f8af9d-9fc7-4f8b-ffdd-8ce5ee2c99de"
      },
      "source": [
        "print(my_list)"
      ],
      "execution_count": null,
      "outputs": [
        {
          "output_type": "stream",
          "text": [
            "[2, 3, 1, 1, 3, 10, 5, 8, 1.43, 'Wubba', 'Lubba']\n"
          ],
          "name": "stdout"
        }
      ]
    },
    {
      "cell_type": "code",
      "metadata": {
        "id": "4ewbAKKhx-vS",
        "colab": {
          "base_uri": "https://localhost:8080/",
          "height": 34
        },
        "outputId": "fcf8fe18-ccbc-4913-f514-0f12d52561a8"
      },
      "source": [
        "len(my_list)"
      ],
      "execution_count": null,
      "outputs": [
        {
          "output_type": "execute_result",
          "data": {
            "text/plain": [
              "11"
            ]
          },
          "metadata": {
            "tags": []
          },
          "execution_count": 161
        }
      ]
    },
    {
      "cell_type": "code",
      "metadata": {
        "id": "-gey8zXHcsH5"
      },
      "source": [
        "my_list.clear"
      ],
      "execution_count": null,
      "outputs": []
    },
    {
      "cell_type": "markdown",
      "metadata": {
        "id": "Wheg57npuH5t"
      },
      "source": [
        "### <code>count()</code>\n",
        "\n",
        "\n",
        "* The <code>count()</code> method returns the total occurrence of a specified element in the list"
      ]
    },
    {
      "cell_type": "code",
      "metadata": {
        "id": "ECnUwg_eyG47",
        "colab": {
          "base_uri": "https://localhost:8080/"
        },
        "outputId": "342ebb88-b0db-46fe-a363-1a0a9a65880b"
      },
      "source": [
        "print(my_list)"
      ],
      "execution_count": null,
      "outputs": [
        {
          "output_type": "stream",
          "name": "stdout",
          "text": [
            "[1, 2, 3, 1, 1, 1, 3, 10, 5, 8, 'Append me!', 2.73, [10, [19, 20], 30]]\n"
          ]
        }
      ]
    },
    {
      "cell_type": "code",
      "source": [
        "my_list.append(1)"
      ],
      "metadata": {
        "id": "W8513KHGmNVo"
      },
      "execution_count": null,
      "outputs": []
    },
    {
      "cell_type": "code",
      "source": [
        "print(my_list)"
      ],
      "metadata": {
        "colab": {
          "base_uri": "https://localhost:8080/"
        },
        "id": "N3j3omcupkGV",
        "outputId": "7162fb16-2333-4ca4-bfe9-05c22ae9f57d"
      },
      "execution_count": null,
      "outputs": [
        {
          "output_type": "stream",
          "name": "stdout",
          "text": [
            "[1, 2, 3, 1, 1, 1, 3, 10, 5, 8, 'Append me!', 2.73, [10, [19, 20], 30], 1]\n"
          ]
        }
      ]
    },
    {
      "cell_type": "code",
      "metadata": {
        "id": "v62QCGFTuH5u",
        "colab": {
          "base_uri": "https://localhost:8080/"
        },
        "outputId": "b5ea9bab-07a5-4a38-eac5-4a96275c9365"
      },
      "source": [
        "# Count the number of times element 1 occurs in my_list\n",
        "my_list.count(7)"
      ],
      "execution_count": null,
      "outputs": [
        {
          "output_type": "execute_result",
          "data": {
            "text/plain": [
              "0"
            ]
          },
          "metadata": {},
          "execution_count": 109
        }
      ]
    },
    {
      "cell_type": "code",
      "metadata": {
        "id": "LA3k4qScuH5z",
        "colab": {
          "base_uri": "https://localhost:8080/"
        },
        "outputId": "86129300-6686-4209-839b-e7fc3e343b85"
      },
      "source": [
        "my_list.count(1)"
      ],
      "execution_count": null,
      "outputs": [
        {
          "output_type": "execute_result",
          "data": {
            "text/plain": [
              "5"
            ]
          },
          "metadata": {},
          "execution_count": 110
        }
      ]
    },
    {
      "cell_type": "markdown",
      "metadata": {
        "id": "avyykdGjuH52"
      },
      "source": [
        "### <code>index()</code>\n",
        "\n",
        "\n",
        "* The <code>index()</code> method returns the index of a specified element."
      ]
    },
    {
      "cell_type": "code",
      "metadata": {
        "id": "78Mc3vSuydeb",
        "colab": {
          "base_uri": "https://localhost:8080/"
        },
        "outputId": "f9482ebd-b637-4f05-be4e-0b43d00e660b"
      },
      "source": [
        "print(my_list)"
      ],
      "execution_count": null,
      "outputs": [
        {
          "output_type": "stream",
          "name": "stdout",
          "text": [
            "[1, 2, 3, 1, 1, 1, 3, 10, 5, 8, 'Append me!', 2.73, [10, [19, 20], 30], 1]\n"
          ]
        }
      ]
    },
    {
      "cell_type": "code",
      "metadata": {
        "id": "ziOkTs68uH52",
        "colab": {
          "base_uri": "https://localhost:8080/"
        },
        "outputId": "ca429c65-4b00-4933-bfa1-4ae8086336c4"
      },
      "source": [
        "my_list.index(8)"
      ],
      "execution_count": null,
      "outputs": [
        {
          "output_type": "execute_result",
          "data": {
            "text/plain": [
              "9"
            ]
          },
          "metadata": {},
          "execution_count": 117
        }
      ]
    },
    {
      "cell_type": "code",
      "metadata": {
        "id": "k-ByxvTYuH54",
        "colab": {
          "base_uri": "https://localhost:8080/"
        },
        "outputId": "864343e5-b5ae-40ad-cb9c-7627cc163c04"
      },
      "source": [
        "my_list.index(3)"
      ],
      "execution_count": null,
      "outputs": [
        {
          "output_type": "execute_result",
          "data": {
            "text/plain": [
              "2"
            ]
          },
          "metadata": {},
          "execution_count": 113
        }
      ]
    },
    {
      "cell_type": "code",
      "source": [
        "my_list.index(1,1)"
      ],
      "metadata": {
        "colab": {
          "base_uri": "https://localhost:8080/"
        },
        "id": "rE9N8miBn2vP",
        "outputId": "54b66f0c-aea7-43ca-a736-6f4cad3f5a05"
      },
      "execution_count": null,
      "outputs": [
        {
          "output_type": "execute_result",
          "data": {
            "text/plain": [
              "3"
            ]
          },
          "metadata": {},
          "execution_count": 114
        }
      ]
    },
    {
      "cell_type": "code",
      "source": [
        "print(my_list.index(1))"
      ],
      "metadata": {
        "colab": {
          "base_uri": "https://localhost:8080/"
        },
        "id": "MVCxyz3GqNr7",
        "outputId": "1b5d13f7-684c-4fea-cb07-e13f72dfaec6"
      },
      "execution_count": null,
      "outputs": [
        {
          "output_type": "stream",
          "name": "stdout",
          "text": [
            "0\n"
          ]
        }
      ]
    },
    {
      "cell_type": "code",
      "source": [
        "my_list.index(1,my_list.index(1))\n"
      ],
      "metadata": {
        "colab": {
          "base_uri": "https://localhost:8080/"
        },
        "id": "rqS227kqoQM-",
        "outputId": "0ee1fed9-55d5-4dba-d70b-24b86252f50e"
      },
      "execution_count": null,
      "outputs": [
        {
          "output_type": "execute_result",
          "data": {
            "text/plain": [
              "0"
            ]
          },
          "metadata": {},
          "execution_count": 118
        }
      ]
    },
    {
      "cell_type": "code",
      "source": [
        "print(my_list.index(1,my_list.index(1)+2))"
      ],
      "metadata": {
        "colab": {
          "base_uri": "https://localhost:8080/"
        },
        "id": "B4yMzrYwpCOt",
        "outputId": "e7525563-faa7-4a97-8c49-e35b08e93514"
      },
      "execution_count": null,
      "outputs": [
        {
          "output_type": "stream",
          "name": "stdout",
          "text": [
            "3\n"
          ]
        }
      ]
    },
    {
      "cell_type": "code",
      "source": [
        "#same as above\n",
        "print(my_list.index(1,2))"
      ],
      "metadata": {
        "colab": {
          "base_uri": "https://localhost:8080/"
        },
        "id": "K-cI_LJ8qwcR",
        "outputId": "b1b337f8-4d80-424c-e63f-f17faf987cc2"
      },
      "execution_count": null,
      "outputs": [
        {
          "output_type": "stream",
          "name": "stdout",
          "text": [
            "3\n"
          ]
        }
      ]
    },
    {
      "cell_type": "markdown",
      "metadata": {
        "id": "f4JqHtEouH57"
      },
      "source": [
        "### <code>sort()</code>\n",
        "\n",
        "* Use <code>sort()</code> to sort the list in either ascending/descending order\n",
        "\n",
        "\n",
        "* The sorting is done in ascending order by default\n",
        "\n",
        "\n",
        "* <code>sort()</code> method takes the reverse boolean as an argument\n",
        "\n",
        "\n",
        "* <code>sort()</code> method only works on a list with elements of same data type"
      ]
    },
    {
      "cell_type": "code",
      "metadata": {
        "id": "yOIhOzjruH57"
      },
      "source": [
        "new_list = [6, 9, 1, 3, 5]"
      ],
      "execution_count": null,
      "outputs": []
    },
    {
      "cell_type": "code",
      "metadata": {
        "id": "VhPOveeYuH59"
      },
      "source": [
        "# Use sort to sort the list (this is permanent!)\n",
        "new_list.sort()"
      ],
      "execution_count": null,
      "outputs": []
    },
    {
      "cell_type": "code",
      "metadata": {
        "id": "iw_PGYFmuH6S",
        "colab": {
          "base_uri": "https://localhost:8080/"
        },
        "outputId": "ceb6d750-b86e-4665-98db-0d69953eb773"
      },
      "source": [
        "print(new_list)"
      ],
      "execution_count": null,
      "outputs": [
        {
          "output_type": "stream",
          "name": "stdout",
          "text": [
            "[1, 3, 5, 6, 9]\n"
          ]
        }
      ]
    },
    {
      "cell_type": "code",
      "metadata": {
        "id": "7G1nOh1VuH6U",
        "colab": {
          "base_uri": "https://localhost:8080/"
        },
        "outputId": "37d1e567-6f61-43b9-846d-43303f42ac79"
      },
      "source": [
        "# Use the reverse boolean to set the ascending or descending order\n",
        "new_list.sort(reverse=True)\n",
        "print(new_list)"
      ],
      "execution_count": null,
      "outputs": [
        {
          "output_type": "stream",
          "name": "stdout",
          "text": [
            "[9, 6, 5, 3, 1]\n"
          ]
        }
      ]
    },
    {
      "cell_type": "code",
      "metadata": {
        "id": "QIoFBvqOzosU"
      },
      "source": [
        "boolean_list = [True, False]"
      ],
      "execution_count": null,
      "outputs": []
    },
    {
      "cell_type": "code",
      "metadata": {
        "id": "tqENLXmJzueH"
      },
      "source": [
        "boolean_list.sort(reverse=True)"
      ],
      "execution_count": null,
      "outputs": []
    },
    {
      "cell_type": "code",
      "metadata": {
        "id": "O6MiKYnMzxvD",
        "colab": {
          "base_uri": "https://localhost:8080/",
          "height": 34
        },
        "outputId": "be040da8-7455-47da-9d38-77eb8e83d9a1"
      },
      "source": [
        "print(boolean_list)"
      ],
      "execution_count": null,
      "outputs": [
        {
          "output_type": "stream",
          "text": [
            "[True, False]\n"
          ],
          "name": "stdout"
        }
      ]
    },
    {
      "cell_type": "markdown",
      "metadata": {
        "id": "-PKIGd9xuH6a"
      },
      "source": [
        "### <code>reverse()</code>\n",
        "\n",
        "* <code>reverse()</code> method reverses the list"
      ]
    },
    {
      "cell_type": "code",
      "metadata": {
        "id": "0Z_IZuJeuH6d"
      },
      "source": [
        "my_list = [1, 1, 1, 1, 1.43, 2, 3, 3, 5, 8, 10, 'Lubba', 'Dub Dub']"
      ],
      "execution_count": null,
      "outputs": []
    },
    {
      "cell_type": "code",
      "metadata": {
        "id": "idf-jZVG0FWq",
        "colab": {
          "base_uri": "https://localhost:8080/"
        },
        "outputId": "2d8caeb2-88c6-44ff-9216-f41602f55235"
      },
      "source": [
        "print(my_list)"
      ],
      "execution_count": null,
      "outputs": [
        {
          "output_type": "stream",
          "name": "stdout",
          "text": [
            "[1, 1, 1, 1, 1.43, 2, 3, 3, 5, 8, 10, 'Lubba', 'Dub Dub']\n"
          ]
        }
      ]
    },
    {
      "cell_type": "code",
      "metadata": {
        "id": "XlHNzFuWuH6f"
      },
      "source": [
        "my_list.reverse()"
      ],
      "execution_count": null,
      "outputs": []
    },
    {
      "cell_type": "code",
      "metadata": {
        "id": "EIjRqvMsuH6h",
        "colab": {
          "base_uri": "https://localhost:8080/"
        },
        "outputId": "06de864e-36fe-4b3b-958a-11ee81954101"
      },
      "source": [
        "print(my_list)"
      ],
      "execution_count": null,
      "outputs": [
        {
          "output_type": "stream",
          "name": "stdout",
          "text": [
            "['Dub Dub', 'Lubba', 10, 8, 5, 3, 3, 2, 1.43, 1, 1, 1, 1]\n"
          ]
        }
      ]
    },
    {
      "cell_type": "markdown",
      "metadata": {
        "id": "Kflrg7Y0uH6j"
      },
      "source": [
        "## Nested Lists\n",
        "\n",
        "* A great feature of of Python data structures is that they support *nesting*. This means we can have data structures within data structures. For example: A list inside a list."
      ]
    },
    {
      "cell_type": "code",
      "metadata": {
        "id": "fcP7eX_buH6j"
      },
      "source": [
        "# Let's make three lists\n",
        "lst_1=[1,2,3]\n",
        "lst_2=['b','a','d']\n",
        "lst_3=[7,8,9]\n",
        "\n",
        "# Make a list of lists to form a matrix\n",
        "list_of_lists = [lst_1,lst_2,lst_3]"
      ],
      "execution_count": null,
      "outputs": []
    },
    {
      "cell_type": "code",
      "metadata": {
        "id": "ZW98bxOcuH6l",
        "colab": {
          "base_uri": "https://localhost:8080/"
        },
        "outputId": "c2f6fb97-f190-4f33-e1fc-72eab92a984a"
      },
      "source": [
        "print(list_of_lists)"
      ],
      "execution_count": null,
      "outputs": [
        {
          "output_type": "stream",
          "name": "stdout",
          "text": [
            "[[1, 2, 3], ['b', 'a', 'd'], [7, 8, 9]]\n"
          ]
        }
      ]
    },
    {
      "cell_type": "code",
      "source": [
        "list_of_lists[1][1]"
      ],
      "metadata": {
        "colab": {
          "base_uri": "https://localhost:8080/",
          "height": 35
        },
        "id": "DdBhWqPcqlfJ",
        "outputId": "9baf22f7-a2fa-47b5-d5b8-6ccee7275102"
      },
      "execution_count": null,
      "outputs": [
        {
          "output_type": "execute_result",
          "data": {
            "text/plain": [
              "'a'"
            ],
            "application/vnd.google.colaboratory.intrinsic+json": {
              "type": "string"
            }
          },
          "metadata": {},
          "execution_count": 132
        }
      ]
    },
    {
      "cell_type": "code",
      "source": [
        "list_of_lists[2][2]"
      ],
      "metadata": {
        "colab": {
          "base_uri": "https://localhost:8080/"
        },
        "id": "4c43UY24sLHQ",
        "outputId": "c7f20574-58b4-47cc-dbe9-b15f1b0e7a8a"
      },
      "execution_count": null,
      "outputs": [
        {
          "output_type": "execute_result",
          "data": {
            "text/plain": [
              "9"
            ]
          },
          "metadata": {},
          "execution_count": 134
        }
      ]
    },
    {
      "cell_type": "code",
      "source": [
        "list_of_lists[0][2]"
      ],
      "metadata": {
        "colab": {
          "base_uri": "https://localhost:8080/"
        },
        "id": "gVJhGyTMsx7Z",
        "outputId": "68ac3bcf-d35a-462b-dd2d-c51f864f622b"
      },
      "execution_count": null,
      "outputs": [
        {
          "output_type": "execute_result",
          "data": {
            "text/plain": [
              "3"
            ]
          },
          "metadata": {},
          "execution_count": 137
        }
      ]
    },
    {
      "cell_type": "code",
      "metadata": {
        "id": "LCsNZqhiuH6o",
        "colab": {
          "base_uri": "https://localhost:8080/"
        },
        "outputId": "741c07f9-90ae-4257-f40a-5fce2fb26ff8"
      },
      "source": [
        "# Show\n",
        "type(list_of_lists)"
      ],
      "execution_count": null,
      "outputs": [
        {
          "output_type": "execute_result",
          "data": {
            "text/plain": [
              "list"
            ]
          },
          "metadata": {
            "tags": []
          },
          "execution_count": 96
        }
      ]
    },
    {
      "cell_type": "code",
      "metadata": {
        "id": "b0RVu1A9uH6r",
        "colab": {
          "base_uri": "https://localhost:8080/",
          "height": 34
        },
        "outputId": "0287ab44-4d6f-48e5-dcda-31234941c262"
      },
      "source": [
        "# Grab first item in matrix object\n",
        "list_of_lists[1]"
      ],
      "execution_count": null,
      "outputs": [
        {
          "output_type": "execute_result",
          "data": {
            "text/plain": [
              "['b', 'a', 'd']"
            ]
          },
          "metadata": {
            "tags": []
          },
          "execution_count": 189
        }
      ]
    },
    {
      "cell_type": "code",
      "metadata": {
        "id": "HXVZtlY3uH6u",
        "colab": {
          "base_uri": "https://localhost:8080/"
        },
        "outputId": "db66dc84-dca7-429b-80f2-8933b2a73ff7"
      },
      "source": [
        "# Grab first item of the first item in the matrix object\n",
        "list_of_lists[1]"
      ],
      "execution_count": null,
      "outputs": [
        {
          "output_type": "execute_result",
          "data": {
            "text/plain": [
              "['b', 'a', 'd']"
            ]
          },
          "metadata": {
            "tags": []
          },
          "execution_count": 97
        }
      ]
    },
    {
      "cell_type": "code",
      "metadata": {
        "id": "4B52LBDjOSIz",
        "colab": {
          "base_uri": "https://localhost:8080/",
          "height": 34
        },
        "outputId": "9d7c8282-9bfb-4575-ad19-f1521d1f3119"
      },
      "source": [
        "list_of_lists[1][1][][][]"
      ],
      "execution_count": null,
      "outputs": [
        {
          "output_type": "execute_result",
          "data": {
            "application/vnd.google.colaboratory.intrinsic+json": {
              "type": "string"
            },
            "text/plain": [
              "'a'"
            ]
          },
          "metadata": {
            "tags": []
          },
          "execution_count": 98
        }
      ]
    },
    {
      "cell_type": "code",
      "metadata": {
        "id": "iC2D0SZCfV9n"
      },
      "source": [],
      "execution_count": null,
      "outputs": []
    }
  ]
}