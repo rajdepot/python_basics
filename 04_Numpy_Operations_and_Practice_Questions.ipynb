{
  "cells": [
    {
      "cell_type": "markdown",
      "metadata": {
        "id": "view-in-github",
        "colab_type": "text"
      },
      "source": [
        "<a href=\"https://colab.research.google.com/github/rajdepot/python_basics/blob/main/04_Numpy_Operations_and_Practice_Questions.ipynb\" target=\"_parent\"><img src=\"https://colab.research.google.com/assets/colab-badge.svg\" alt=\"Open In Colab\"/></a>"
      ]
    },
    {
      "cell_type": "code",
      "execution_count": null,
      "id": "aab30654",
      "metadata": {
        "id": "aab30654"
      },
      "outputs": [],
      "source": [
        "from PIL import Image\n",
        "import numpy as np\n",
        "\n",
        "\n",
        "# load the image and convert into\n",
        "# numpy array\n",
        "img = Image.open('gettyimages-147786673.jpg')\n",
        "\n"
      ]
    },
    {
      "cell_type": "code",
      "execution_count": null,
      "id": "3b65353d",
      "metadata": {
        "id": "3b65353d"
      },
      "outputs": [],
      "source": [
        "# img"
      ]
    },
    {
      "cell_type": "code",
      "execution_count": null,
      "id": "39b793c5",
      "metadata": {
        "id": "39b793c5",
        "outputId": "49bbd9f2-a67f-4122-85bc-f0ae33e6dca8"
      },
      "outputs": [
        {
          "data": {
            "text/plain": [
              "array([[[ 54,  70,  59],\n",
              "        [ 57,  73,  62],\n",
              "        [ 55,  71,  60],\n",
              "        ...,\n",
              "        [ 45,  63,  23],\n",
              "        [ 44,  62,  22],\n",
              "        [ 40,  58,  18]],\n",
              "\n",
              "       [[ 57,  73,  62],\n",
              "        [ 59,  75,  64],\n",
              "        [ 57,  73,  62],\n",
              "        ...,\n",
              "        [ 40,  58,  18],\n",
              "        [ 39,  57,  17],\n",
              "        [ 35,  53,  13]],\n",
              "\n",
              "       [[ 57,  73,  62],\n",
              "        [ 58,  74,  63],\n",
              "        [ 56,  72,  61],\n",
              "        ...,\n",
              "        [ 38,  56,  16],\n",
              "        [ 37,  55,  15],\n",
              "        [ 34,  52,  12]],\n",
              "\n",
              "       ...,\n",
              "\n",
              "       [[174, 202, 154],\n",
              "        [175, 203, 155],\n",
              "        [176, 204, 156],\n",
              "        ...,\n",
              "        [152, 184, 108],\n",
              "        [152, 184, 108],\n",
              "        [152, 184, 108]],\n",
              "\n",
              "       [[174, 202, 153],\n",
              "        [175, 203, 154],\n",
              "        [175, 203, 154],\n",
              "        ...,\n",
              "        [153, 185, 109],\n",
              "        [153, 185, 109],\n",
              "        [153, 185, 109]],\n",
              "\n",
              "       [[173, 201, 152],\n",
              "        [174, 202, 153],\n",
              "        [175, 203, 152],\n",
              "        ...,\n",
              "        [154, 186, 110],\n",
              "        [154, 186, 110],\n",
              "        [154, 186, 110]]], dtype=uint8)"
            ]
          },
          "execution_count": 11,
          "metadata": {},
          "output_type": "execute_result"
        }
      ],
      "source": [
        "# asarray() class is used to convert\n",
        "# PIL images into NumPy arrays\n",
        "numpydata = np.asarray(img)\n",
        "numpydata"
      ]
    },
    {
      "cell_type": "code",
      "execution_count": null,
      "id": "68f7c79a",
      "metadata": {
        "id": "68f7c79a",
        "outputId": "82b276ed-7e59-474f-c3d2-e0cd09c8cd81"
      },
      "outputs": [
        {
          "data": {
            "text/plain": [
              "(1470, 980, 3)"
            ]
          },
          "execution_count": 12,
          "metadata": {},
          "output_type": "execute_result"
        }
      ],
      "source": [
        "numpydata.shape"
      ]
    },
    {
      "cell_type": "code",
      "execution_count": null,
      "id": "4024d326",
      "metadata": {
        "id": "4024d326",
        "outputId": "0c3e7985-c61b-4edd-97c1-ee895eff99d1"
      },
      "outputs": [
        {
          "name": "stdout",
          "output_type": "stream",
          "text": [
            "<class 'numpy.ndarray'>\n",
            "(1470, 980, 3)\n"
          ]
        }
      ],
      "source": [
        "# <class 'numpy.ndarray'>\n",
        "print(type(numpydata))\n",
        "\n",
        "#  shape\n",
        "print(numpydata.shape)"
      ]
    },
    {
      "cell_type": "code",
      "execution_count": null,
      "id": "80e4df60",
      "metadata": {
        "id": "80e4df60"
      },
      "outputs": [],
      "source": []
    },
    {
      "cell_type": "code",
      "execution_count": null,
      "id": "12d9014b",
      "metadata": {
        "id": "12d9014b"
      },
      "outputs": [],
      "source": [
        "## Q1 - find non zero elements"
      ]
    },
    {
      "cell_type": "code",
      "execution_count": null,
      "id": "359663cb",
      "metadata": {
        "id": "359663cb",
        "outputId": "01701286-5cdd-4d32-d280-c0ea360bb081"
      },
      "outputs": [
        {
          "data": {
            "text/plain": [
              "4"
            ]
          },
          "execution_count": 30,
          "metadata": {},
          "output_type": "execute_result"
        }
      ],
      "source": [
        "arr1 = np.array([0,1,2,3,4])\n",
        "np.count_nonzero(arr1)"
      ]
    },
    {
      "cell_type": "code",
      "execution_count": null,
      "id": "3c12d252",
      "metadata": {
        "id": "3c12d252"
      },
      "outputs": [],
      "source": [
        "## Q2 - reverse the array"
      ]
    },
    {
      "cell_type": "code",
      "execution_count": null,
      "id": "22c5dd77",
      "metadata": {
        "id": "22c5dd77",
        "outputId": "7db58b38-f47e-4558-c5e8-0982f5a763e8"
      },
      "outputs": [
        {
          "data": {
            "text/plain": [
              "array([4, 3, 2, 1, 0])"
            ]
          },
          "execution_count": 31,
          "metadata": {},
          "output_type": "execute_result"
        }
      ],
      "source": [
        "arr1 = np.array([0,1,2,3,4])\n",
        "np.flip(arr1)"
      ]
    },
    {
      "cell_type": "code",
      "execution_count": null,
      "id": "08f0f839",
      "metadata": {
        "id": "08f0f839"
      },
      "outputs": [],
      "source": [
        "## Q3 : Given a numpy array and a list, find which elements from the list are present in the array\n",
        "#"
      ]
    },
    {
      "cell_type": "code",
      "execution_count": null,
      "id": "d3411f01",
      "metadata": {
        "id": "d3411f01",
        "outputId": "5a964859-46f6-42ff-b471-dc3f93e80012"
      },
      "outputs": [
        {
          "data": {
            "text/plain": [
              "array([False,  True,  True,  True, False])"
            ]
          },
          "execution_count": 34,
          "metadata": {},
          "output_type": "execute_result"
        }
      ],
      "source": [
        "arr1 = np.array([0,1,2,3,4])\n",
        "list1 = [1,2,3]\n",
        "np.isin(arr1,list1)\n",
        "# arr1[1:4]"
      ]
    },
    {
      "cell_type": "code",
      "execution_count": null,
      "id": "ea9f0d10",
      "metadata": {
        "id": "ea9f0d10"
      },
      "outputs": [],
      "source": [
        "## Q4 - given an integer x and an numpy array, Get row numbers of NumPy array having element larger than X,\n",
        "# if Arr = [[1,2,3,4,5],\n",
        "#       [10,-3,30,4,5],\n",
        "#       [3,2,5,-4,5],\n",
        "#       [9,7,3,6,5]]\n",
        "# and X = 6 then output is [ 1, 3 ] because row 1 and row 3 has elements greater than 6\n",
        "\n"
      ]
    },
    {
      "cell_type": "code",
      "execution_count": null,
      "id": "a60c857e",
      "metadata": {
        "id": "a60c857e"
      },
      "outputs": [],
      "source": [
        "arr1 = np.array([[1,2,3,4,5],\n",
        "      [10,-3,30,4,5],\n",
        "      [3,2,5,-4,5],\n",
        "      [9,7,3,6,5]])"
      ]
    },
    {
      "cell_type": "code",
      "execution_count": null,
      "id": "07365440",
      "metadata": {
        "id": "07365440"
      },
      "outputs": [],
      "source": []
    },
    {
      "cell_type": "code",
      "execution_count": null,
      "id": "a0a09087",
      "metadata": {
        "id": "a0a09087"
      },
      "outputs": [],
      "source": [
        "x = 6"
      ]
    },
    {
      "cell_type": "code",
      "execution_count": null,
      "id": "4ecfc731",
      "metadata": {
        "id": "4ecfc731"
      },
      "outputs": [],
      "source": []
    },
    {
      "cell_type": "code",
      "execution_count": null,
      "id": "58419ac5",
      "metadata": {
        "id": "58419ac5",
        "outputId": "e40b59a3-62a1-4142-e1d2-7cb04be68300"
      },
      "outputs": [
        {
          "data": {
            "text/plain": [
              "(array([1, 1, 3, 3]), array([0, 2, 0, 1]))"
            ]
          },
          "execution_count": 40,
          "metadata": {},
          "output_type": "execute_result"
        }
      ],
      "source": [
        "# np.where(arr1>6)"
      ]
    },
    {
      "cell_type": "code",
      "execution_count": null,
      "id": "b1d86fea",
      "metadata": {
        "id": "b1d86fea",
        "outputId": "7f3b891d-5391-477c-cf95-1132daa14238"
      },
      "outputs": [
        {
          "data": {
            "text/plain": [
              "array([0, 1, 1])"
            ]
          },
          "execution_count": 47,
          "metadata": {},
          "output_type": "execute_result"
        }
      ],
      "source": [
        "arr1 = np.array([1,2,3])\n",
        "np.where(arr1>1, 1, 0)"
      ]
    },
    {
      "cell_type": "code",
      "execution_count": null,
      "id": "f491047c",
      "metadata": {
        "id": "f491047c",
        "outputId": "5db8f650-15a8-485b-8880-ce007a585a1b"
      },
      "outputs": [
        {
          "data": {
            "text/plain": [
              "True"
            ]
          },
          "execution_count": 51,
          "metadata": {},
          "output_type": "execute_result"
        }
      ],
      "source": [
        "np.any(arr1>2)"
      ]
    },
    {
      "cell_type": "code",
      "execution_count": null,
      "id": "1cf79269",
      "metadata": {
        "id": "1cf79269",
        "outputId": "5ffe03a1-75c9-471d-a6bc-388a061ffeaf"
      },
      "outputs": [
        {
          "data": {
            "text/plain": [
              "array([False,  True, False,  True])"
            ]
          },
          "execution_count": 61,
          "metadata": {},
          "output_type": "execute_result"
        }
      ],
      "source": [
        "np.any(arr1>x,axis=1)"
      ]
    },
    {
      "cell_type": "code",
      "execution_count": null,
      "id": "ff808395",
      "metadata": {
        "id": "ff808395",
        "outputId": "77f2f1fc-7302-4a8c-8297-7ca84ab93e0f"
      },
      "outputs": [
        {
          "data": {
            "text/plain": [
              "(array([0, 2]),)"
            ]
          },
          "execution_count": 64,
          "metadata": {},
          "output_type": "execute_result"
        }
      ],
      "source": [
        "np.where((True, False, True))"
      ]
    },
    {
      "cell_type": "code",
      "execution_count": null,
      "id": "ba9c89af",
      "metadata": {
        "id": "ba9c89af"
      },
      "outputs": [],
      "source": [
        "np.where"
      ]
    },
    {
      "cell_type": "code",
      "execution_count": null,
      "id": "73013d05",
      "metadata": {
        "id": "73013d05",
        "outputId": "e10bd51b-cf07-4d9d-b77d-6ab7d687ddd5"
      },
      "outputs": [
        {
          "name": "stdout",
          "output_type": "stream",
          "text": [
            "[1 3]\n"
          ]
        }
      ],
      "source": [
        "output = np.where(np.any(arr1>x,axis=1))[0]\n",
        "print(output)"
      ]
    },
    {
      "cell_type": "code",
      "execution_count": null,
      "id": "0a272406",
      "metadata": {
        "id": "0a272406"
      },
      "outputs": [],
      "source": [
        "##q5  Given a numpy array, Find indices of elements which are 0"
      ]
    },
    {
      "cell_type": "code",
      "execution_count": null,
      "id": "3d52b182",
      "metadata": {
        "id": "3d52b182"
      },
      "outputs": [],
      "source": [
        "arr1 = np.array([1,2,0,8,9,0,4])\n",
        "x = np.where(arr1==0)"
      ]
    },
    {
      "cell_type": "code",
      "execution_count": null,
      "id": "b707746a",
      "metadata": {
        "id": "b707746a",
        "outputId": "45b05d29-65d7-45f3-aa0a-7fe934c0dc87"
      },
      "outputs": [
        {
          "data": {
            "text/plain": [
              "(array([2, 5]),)"
            ]
          },
          "execution_count": 70,
          "metadata": {},
          "output_type": "execute_result"
        }
      ],
      "source": [
        "x"
      ]
    },
    {
      "cell_type": "code",
      "execution_count": null,
      "id": "8de1c079",
      "metadata": {
        "id": "8de1c079",
        "outputId": "0f3b3006-fc18-4061-be71-ec2513deed48"
      },
      "outputs": [
        {
          "name": "stdout",
          "output_type": "stream",
          "text": [
            "[2 5]\n"
          ]
        }
      ],
      "source": [
        "print(x[0])"
      ]
    },
    {
      "cell_type": "code",
      "execution_count": null,
      "id": "e4b0958a",
      "metadata": {
        "id": "e4b0958a",
        "outputId": "5e394963-45ee-4000-b221-3623265c4e7a"
      },
      "outputs": [
        {
          "data": {
            "text/plain": [
              "array([False, False,  True, False, False,  True, False])"
            ]
          },
          "execution_count": 72,
          "metadata": {},
          "output_type": "execute_result"
        }
      ],
      "source": [
        "arr1 ==0"
      ]
    },
    {
      "cell_type": "code",
      "execution_count": null,
      "id": "f332b1db",
      "metadata": {
        "id": "f332b1db"
      },
      "outputs": [],
      "source": [
        "## q6 - given a numpy array, trim the leading Zeroes ,\n",
        "## eg- if input is [0,0,1,2,3] output should be [1,2,3]"
      ]
    },
    {
      "cell_type": "code",
      "execution_count": null,
      "id": "c0141e6a",
      "metadata": {
        "id": "c0141e6a",
        "outputId": "226868bd-79bf-43db-a8b7-ecc18d4bbbb4"
      },
      "outputs": [
        {
          "data": {
            "text/plain": [
              "array([1, 2, 3])"
            ]
          },
          "execution_count": 93,
          "metadata": {},
          "output_type": "execute_result"
        }
      ],
      "source": [
        "x = np.array([0,0,1,2,3,0,0])\n",
        "np.trim_zeros(x, trim='fb')"
      ]
    },
    {
      "cell_type": "code",
      "execution_count": null,
      "id": "b3799fd4",
      "metadata": {
        "id": "b3799fd4"
      },
      "outputs": [],
      "source": [
        "# axis = 1 operations along columns, Operations are performed along the columns (horizontally).\n",
        "# axis = 0 operations along rows, Operations are performed along the rows (vertically)."
      ]
    },
    {
      "cell_type": "code",
      "execution_count": null,
      "id": "26a75ac0",
      "metadata": {
        "id": "26a75ac0"
      },
      "outputs": [],
      "source": [
        "## Q7\n",
        "# ### Given a 2d array.\n",
        "x = np.array([[1,2],[3,4]])\n",
        "1. find the sum of all the elements [output=  10]\n",
        "2. find the sum of all the elements in each row [output = [3, 7]]\n",
        "3. find the sum of all the elements in each columns [output = [4, 6]]"
      ]
    },
    {
      "cell_type": "code",
      "execution_count": null,
      "id": "38086917",
      "metadata": {
        "id": "38086917",
        "outputId": "dbb1c4f4-a7fc-47f6-d20b-63947ffd68a7"
      },
      "outputs": [
        {
          "data": {
            "text/plain": [
              "10"
            ]
          },
          "execution_count": 143,
          "metadata": {},
          "output_type": "execute_result"
        }
      ],
      "source": [
        "x.sum()"
      ]
    },
    {
      "cell_type": "code",
      "execution_count": null,
      "id": "f39a8fd6",
      "metadata": {
        "id": "f39a8fd6",
        "outputId": "1a336fd0-6476-484d-a385-a456c151e635"
      },
      "outputs": [
        {
          "data": {
            "text/plain": [
              "array([3, 7])"
            ]
          },
          "execution_count": 144,
          "metadata": {},
          "output_type": "execute_result"
        }
      ],
      "source": [
        "x.sum(axis=1)"
      ]
    },
    {
      "cell_type": "code",
      "execution_count": null,
      "id": "c0f9e9f0",
      "metadata": {
        "id": "c0f9e9f0",
        "outputId": "2bb8a8ad-e05f-4b39-8aef-6e01f7231701"
      },
      "outputs": [
        {
          "data": {
            "text/plain": [
              "array([4, 6])"
            ]
          },
          "execution_count": 145,
          "metadata": {},
          "output_type": "execute_result"
        }
      ],
      "source": [
        "x.sum(axis=0)"
      ]
    },
    {
      "cell_type": "code",
      "execution_count": null,
      "id": "6974231c",
      "metadata": {
        "id": "6974231c",
        "outputId": "0222a453-cf49-46fb-82b6-dba28dcda6d8"
      },
      "outputs": [
        {
          "name": "stdout",
          "output_type": "stream",
          "text": [
            "[5 7 9]\n"
          ]
        }
      ],
      "source": [
        "## Q8\n",
        "## given two arrays carry out the element wise additions\n",
        "arr1 = np.array([1,2,3])\n",
        "arr2 = np.array([4,5,6])\n",
        "# output should be [5,7,9]\n",
        "output = arr1 +arr2\n",
        "print(output)"
      ]
    },
    {
      "cell_type": "code",
      "execution_count": null,
      "id": "1a17611b",
      "metadata": {
        "id": "1a17611b",
        "outputId": "bc6e662b-0262-4280-e336-2885c18e8bc2"
      },
      "outputs": [
        {
          "name": "stdout",
          "output_type": "stream",
          "text": [
            "32\n"
          ]
        }
      ],
      "source": [
        "## Q9\n",
        "# Calculate the dot product of two NumPy arrays [1, 2, 3] and [4, 5, 6].\n",
        "x = np.array([1, 2, 3])\n",
        "y = np.array([4, 5, 6])\n",
        "# output should be 32 (1*4+ 2*5 + 3*6)\n",
        "output = np.dot(x,y)\n",
        "print(output)"
      ]
    },
    {
      "cell_type": "code",
      "execution_count": null,
      "id": "5102c08d",
      "metadata": {
        "id": "5102c08d"
      },
      "outputs": [],
      "source": [
        "## Q10\n",
        "Consider the following NumPy array:\n",
        "grades = np.array([92, 85, 76, 88, 95, 90, 84, 78, 80, 82])\n",
        "Use np.where to create a new array called pass_fail such that:\n",
        "- If the grade is greater than or equal to 85, assign 'Pass'.\n",
        "- If the grade is less than 85, assign 'Fail'.\n",
        "- Count the number of 'Pass' and 'Fail' grades.\n",
        "output\n",
        "Number of Pass grades: 5\n",
        "Number of Fail grades: 5"
      ]
    },
    {
      "cell_type": "code",
      "execution_count": null,
      "id": "95c45790",
      "metadata": {
        "id": "95c45790"
      },
      "outputs": [],
      "source": [
        "grades = np.array([92, 85, 76, 88, 95, 90, 84, 78, 80, 82])\n",
        "grades_array = np.where(grades>=85, \"Pass\", \"Fail\")"
      ]
    },
    {
      "cell_type": "code",
      "execution_count": null,
      "id": "5239768d",
      "metadata": {
        "id": "5239768d",
        "outputId": "08ea4f02-7ee1-4f68-e4a2-54c2938d153f"
      },
      "outputs": [
        {
          "name": "stdout",
          "output_type": "stream",
          "text": [
            "5 5\n"
          ]
        }
      ],
      "source": [
        "pass_students = np.sum(grades_array==\"Pass\")\n",
        "fail_students = np.sum(grades_array==\"Fail\")\n",
        "print(pass_students,fail_students )"
      ]
    },
    {
      "cell_type": "code",
      "execution_count": null,
      "id": "3546bd9d",
      "metadata": {
        "id": "3546bd9d"
      },
      "outputs": [],
      "source": []
    }
  ],
  "metadata": {
    "kernelspec": {
      "display_name": "Python 3 (ipykernel)",
      "language": "python",
      "name": "python3"
    },
    "language_info": {
      "codemirror_mode": {
        "name": "ipython",
        "version": 3
      },
      "file_extension": ".py",
      "mimetype": "text/x-python",
      "name": "python",
      "nbconvert_exporter": "python",
      "pygments_lexer": "ipython3",
      "version": "3.10.9"
    },
    "colab": {
      "provenance": [],
      "include_colab_link": true
    }
  },
  "nbformat": 4,
  "nbformat_minor": 5
}