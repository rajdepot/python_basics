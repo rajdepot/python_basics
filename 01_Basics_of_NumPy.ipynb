{
  "cells": [
    {
      "cell_type": "markdown",
      "metadata": {
        "id": "view-in-github",
        "colab_type": "text"
      },
      "source": [
        "<a href=\"https://colab.research.google.com/github/rajdepot/python_basics/blob/main/01_Basics_of_NumPy.ipynb\" target=\"_parent\"><img src=\"https://colab.research.google.com/assets/colab-badge.svg\" alt=\"Open In Colab\"/></a>"
      ]
    },
    {
      "cell_type": "markdown",
      "metadata": {
        "id": "B_38zmhGYo50"
      },
      "source": [
        "# Introduction to NumPy"
      ]
    },
    {
      "cell_type": "markdown",
      "metadata": {
        "id": "MSW2LfETYo52"
      },
      "source": [
        "**NumPy** is a library written for scientific computing and data analysis. It stands for numerical python.\n",
        "\n",
        "The most basic object in NumPy is the ```array```, which is **homogenous** in nature. By homogenous, we mean that all the elements in a numpy array have to be of the **same data type**, which is commonly numeric (float or integer)."
      ]
    },
    {
      "cell_type": "markdown",
      "metadata": {
        "id": "PrPzixT4Yo52"
      },
      "source": [
        "### Numpy vs Lists"
      ]
    },
    {
      "cell_type": "code",
      "execution_count": null,
      "metadata": {
        "id": "VMkJBwOrYo53",
        "outputId": "e389acf2-8dc5-4c25-ad4f-065e651bd3cb"
      },
      "outputs": [
        {
          "ename": "TypeError",
          "evalue": "can't multiply sequence by non-int of type 'float'",
          "output_type": "error",
          "traceback": [
            "\u001b[0;31m---------------------------------------------------------------------------\u001b[0m",
            "\u001b[0;31mTypeError\u001b[0m                                 Traceback (most recent call last)",
            "Cell \u001b[0;32mIn[3], line 5\u001b[0m\n\u001b[1;32m      3\u001b[0m my_list \u001b[38;5;241m=\u001b[39m [\u001b[38;5;241m1\u001b[39m, \u001b[38;5;241m2\u001b[39m, \u001b[38;5;241m3\u001b[39m, \u001b[38;5;241m4\u001b[39m, \u001b[38;5;241m5\u001b[39m]\n\u001b[1;32m      4\u001b[0m \u001b[38;5;66;03m# try to multiply 2.5 directly to the created list\u001b[39;00m\n\u001b[0;32m----> 5\u001b[0m my_list_new \u001b[38;5;241m=\u001b[39m \u001b[38;5;241;43m2.5\u001b[39;49m\u001b[38;5;241;43m*\u001b[39;49m\u001b[43mmy_list\u001b[49m\n",
            "\u001b[0;31mTypeError\u001b[0m: can't multiply sequence by non-int of type 'float'"
          ]
        }
      ],
      "source": [
        "# intialise a list with the following elements: 1, 2, 3, 4, 5\n",
        "\n",
        "my_list = [1, 2, 3, 4, 5]\n",
        "# try to multiply 2.5 directly to the created list\n",
        "my_list_new = 2.5*my_list\n"
      ]
    },
    {
      "cell_type": "code",
      "execution_count": null,
      "metadata": {
        "id": "GnG4hqTrYo53"
      },
      "outputs": [],
      "source": [
        "import numpy as np"
      ]
    },
    {
      "cell_type": "markdown",
      "metadata": {
        "id": "N2Xthj7gYo54"
      },
      "source": [
        "Procedural Concepts of Arrays\n",
        "\n",
        "Declaration and Initialization\n",
        "\n",
        "Declaration: Arrays in NumPy are declared using np.array().\n",
        "\n",
        "Initialization: Allocating memory for the array, either with predefined values or zeros."
      ]
    },
    {
      "cell_type": "code",
      "execution_count": null,
      "metadata": {
        "id": "5LwQ2V6eYo54"
      },
      "outputs": [],
      "source": [
        "list1 = [1,2,3,4,5]"
      ]
    },
    {
      "cell_type": "code",
      "execution_count": null,
      "metadata": {
        "id": "erbdtRKnYo54",
        "outputId": "29818762-2bcd-4475-9ea1-57d5ec5a9d15"
      },
      "outputs": [
        {
          "name": "stdout",
          "output_type": "stream",
          "text": [
            "2.5\n",
            "5.0\n",
            "7.5\n",
            "10.0\n",
            "12.5\n"
          ]
        }
      ],
      "source": [
        "for i in list1:\n",
        "    print(2.5*i)"
      ]
    },
    {
      "cell_type": "code",
      "execution_count": null,
      "metadata": {
        "id": "_DmXKXhJYo55"
      },
      "outputs": [],
      "source": [
        "np_array = np.array([1,2,3,4,5])"
      ]
    },
    {
      "cell_type": "code",
      "execution_count": null,
      "metadata": {
        "id": "O3gpzC4rYo55",
        "outputId": "a6d62a36-5bb4-40a6-ba1f-69ec54dc6de1"
      },
      "outputs": [
        {
          "data": {
            "text/plain": [
              "array([1, 2, 3, 4, 5])"
            ]
          },
          "execution_count": 26,
          "metadata": {},
          "output_type": "execute_result"
        }
      ],
      "source": [
        "np_array"
      ]
    },
    {
      "cell_type": "code",
      "execution_count": null,
      "metadata": {
        "id": "qo0sP-ywYo55",
        "outputId": "79513588-e810-4775-8a50-631c1bde2c32"
      },
      "outputs": [
        {
          "name": "stdout",
          "output_type": "stream",
          "text": [
            "[ 2.5  5.   7.5 10.  12.5]\n"
          ]
        }
      ],
      "source": [
        "np_array_new = 2.5*np_array\n",
        "print(np_array_new)"
      ]
    },
    {
      "cell_type": "markdown",
      "metadata": {
        "id": "GXxScIlHYo55"
      },
      "source": [
        "Lists cannot operate over the entire data together. You need to run _map_ or _apply_ functions to multiply each element with 2.5. Let's try to perform this using a NumPy array."
      ]
    },
    {
      "cell_type": "code",
      "execution_count": null,
      "metadata": {
        "id": "Cel1-U0cYo55"
      },
      "outputs": [],
      "source": []
    },
    {
      "cell_type": "markdown",
      "metadata": {
        "id": "6IZU6aurYo55"
      },
      "source": [
        "### Creating NumPy Arrays\n",
        "\n",
        "There are multiple ways to create numpy arrays, the most commmon ones being:\n",
        "* Convert lists or tuples to arrays using ```np.array()```\n",
        "* Initialise arrays of fixed size (when the size is known)"
      ]
    },
    {
      "cell_type": "code",
      "execution_count": null,
      "metadata": {
        "id": "nqwivVZWYo55",
        "outputId": "a35d516a-9c99-4e20-f0c5-070942f0d7e9"
      },
      "outputs": [
        {
          "data": {
            "text/plain": [
              "(5,)"
            ]
          },
          "execution_count": 29,
          "metadata": {},
          "output_type": "execute_result"
        }
      ],
      "source": [
        "arr1=np.ones(5)\n",
        "arr1.shape"
      ]
    },
    {
      "cell_type": "code",
      "execution_count": null,
      "metadata": {
        "id": "ePOYw4oGYo55",
        "outputId": "b96a1928-1af2-41d8-eb14-57291f0ec309"
      },
      "outputs": [
        {
          "name": "stdout",
          "output_type": "stream",
          "text": [
            "Ones Array: [1. 1. 1. 1. 1.]\n"
          ]
        }
      ],
      "source": [
        "# # Create an array of 1s\n",
        "# ones_array = np.ones(5)\n",
        "# print(\"Ones Array:\", ones_array)"
      ]
    },
    {
      "cell_type": "code",
      "execution_count": null,
      "metadata": {
        "id": "px9yX_TAYo55",
        "outputId": "175317be-7a33-4d6a-d17f-b00cf7e090b9"
      },
      "outputs": [
        {
          "data": {
            "text/plain": [
              "array([0., 0., 0., 0., 0.])"
            ]
          },
          "execution_count": 30,
          "metadata": {},
          "output_type": "execute_result"
        }
      ],
      "source": [
        "arr1 = np.zeros(5)\n",
        "arr1"
      ]
    },
    {
      "cell_type": "code",
      "execution_count": null,
      "metadata": {
        "id": "3YJIA_UtYo56",
        "outputId": "8bce8a98-4fca-4fcf-b4dc-dfbb6866a131"
      },
      "outputs": [
        {
          "name": "stdout",
          "output_type": "stream",
          "text": [
            "Zeros Array: [0. 0. 0. 0. 0.]\n"
          ]
        }
      ],
      "source": [
        "\n",
        "# Create an array of 0s\n",
        "zeros_array = np.zeros(5)\n",
        "print(\"Zeros Array:\", zeros_array)\n",
        "\n"
      ]
    },
    {
      "cell_type": "code",
      "execution_count": null,
      "metadata": {
        "id": "lrW6EYwCYo56",
        "outputId": "9b903d30-416c-421c-962f-0e376228fe0f"
      },
      "outputs": [
        {
          "ename": "AttributeError",
          "evalue": "module 'numpy' has no attribute 'range'",
          "output_type": "error",
          "traceback": [
            "\u001b[0;31m---------------------------------------------------------------------------\u001b[0m",
            "\u001b[0;31mAttributeError\u001b[0m                            Traceback (most recent call last)",
            "Cell \u001b[0;32mIn[41], line 1\u001b[0m\n\u001b[0;32m----> 1\u001b[0m arr2 \u001b[38;5;241m=\u001b[39m \u001b[43mnp\u001b[49m\u001b[38;5;241;43m.\u001b[39;49m\u001b[43mrange\u001b[49m(\u001b[38;5;241m0\u001b[39m,\u001b[38;5;241m10\u001b[39m,\u001b[38;5;241m2\u001b[39m)\n\u001b[1;32m      2\u001b[0m \u001b[38;5;28mprint\u001b[39m(arr2)\n\u001b[1;32m      3\u001b[0m arr2\u001b[38;5;241m.\u001b[39mshape\n",
            "File \u001b[0;32m~/miniconda3/lib/python3.10/site-packages/numpy/__init__.py:311\u001b[0m, in \u001b[0;36m__getattr__\u001b[0;34m(attr)\u001b[0m\n\u001b[1;32m    308\u001b[0m     \u001b[38;5;28;01mfrom\u001b[39;00m \u001b[38;5;21;01m.\u001b[39;00m\u001b[38;5;21;01mtesting\u001b[39;00m \u001b[38;5;28;01mimport\u001b[39;00m Tester\n\u001b[1;32m    309\u001b[0m     \u001b[38;5;28;01mreturn\u001b[39;00m Tester\n\u001b[0;32m--> 311\u001b[0m \u001b[38;5;28;01mraise\u001b[39;00m \u001b[38;5;167;01mAttributeError\u001b[39;00m(\u001b[38;5;124m\"\u001b[39m\u001b[38;5;124mmodule \u001b[39m\u001b[38;5;132;01m{!r}\u001b[39;00m\u001b[38;5;124m has no attribute \u001b[39m\u001b[38;5;124m\"\u001b[39m\n\u001b[1;32m    312\u001b[0m                      \u001b[38;5;124m\"\u001b[39m\u001b[38;5;132;01m{!r}\u001b[39;00m\u001b[38;5;124m\"\u001b[39m\u001b[38;5;241m.\u001b[39mformat(\u001b[38;5;18m__name__\u001b[39m, attr))\n",
            "\u001b[0;31mAttributeError\u001b[0m: module 'numpy' has no attribute 'range'"
          ]
        }
      ],
      "source": [
        "arr2 = np.range(0,10,2)\n",
        "print(arr2)\n",
        "arr2.shape"
      ]
    },
    {
      "cell_type": "code",
      "execution_count": null,
      "metadata": {
        "id": "P6xNFRJkYo56",
        "outputId": "970e005b-3f96-4036-d589-61ca6ed25e64"
      },
      "outputs": [
        {
          "name": "stdout",
          "output_type": "stream",
          "text": [
            "[0 2 4 6 8]\n"
          ]
        },
        {
          "data": {
            "text/plain": [
              "(5,)"
            ]
          },
          "execution_count": 40,
          "metadata": {},
          "output_type": "execute_result"
        }
      ],
      "source": [
        "arr2 = np.arange(0,10,2)\n",
        "print(arr2)\n",
        "arr2.shape"
      ]
    },
    {
      "cell_type": "code",
      "execution_count": null,
      "metadata": {
        "id": "AuCPzB-yYo56"
      },
      "outputs": [],
      "source": [
        "# Create an array with increments of fixed step size\n",
        "## evenly spaced elements with a fixed step size\n",
        "arange_array = np.arange(0, 1, 2)\n",
        "print(\"Arange Array:\", arange_array)\n"
      ]
    },
    {
      "cell_type": "code",
      "execution_count": null,
      "metadata": {
        "id": "aa8FMsz_Yo56",
        "outputId": "a70f2f53-9470-4103-b544-6d56fdb4befc"
      },
      "outputs": [
        {
          "name": "stdout",
          "output_type": "stream",
          "text": [
            "Linspace Array: [0.   0.25 0.5  0.75 1.  ]\n"
          ]
        }
      ],
      "source": [
        "# Create an array of fixed length\n",
        "## evenly spaced n elements\n",
        "linspace_array = np.linspace(0, 1, 5)\n",
        "print(\"Linspace Array:\", linspace_array)\n"
      ]
    },
    {
      "cell_type": "code",
      "execution_count": null,
      "metadata": {
        "id": "QN_dXFugYo56",
        "outputId": "5e82fefd-2304-4923-d8d4-1861ee2345fb"
      },
      "outputs": [
        {
          "name": "stdout",
          "output_type": "stream",
          "text": [
            "Full Array: [5 5 5 5 5 5 5 5 5 5]\n"
          ]
        }
      ],
      "source": [
        "# Create a constant array of any number 'n'\n",
        "full_array = np.full(10, 5)\n",
        "print(\"Full Array:\", full_array)\n"
      ]
    },
    {
      "cell_type": "code",
      "execution_count": null,
      "metadata": {
        "id": "f6i_X1rXYo56"
      },
      "outputs": [],
      "source": [
        "[1,2,3],[1,2,3],[1,2,3]"
      ]
    },
    {
      "cell_type": "code",
      "execution_count": null,
      "metadata": {
        "id": "rzRHGQLbYo56",
        "outputId": "2ebf6b59-3e28-4b83-8334-4fdbbd01658a"
      },
      "outputs": [
        {
          "data": {
            "text/plain": [
              "array([1, 2, 3, 1, 2, 3, 1, 2, 3])"
            ]
          },
          "execution_count": 45,
          "metadata": {},
          "output_type": "execute_result"
        }
      ],
      "source": [
        "x = np.array([1,2,3])\n",
        "np.tile(x, 3)"
      ]
    },
    {
      "cell_type": "code",
      "execution_count": null,
      "metadata": {
        "id": "Z8jOFTxqYo56",
        "outputId": "97387f00-9b5d-48bf-b7c6-027d72dfe121"
      },
      "outputs": [
        {
          "name": "stdout",
          "output_type": "stream",
          "text": [
            "Tiled Array: [1 2 3 1 2 3 1 2 3]\n"
          ]
        }
      ],
      "source": [
        "# Create a new array by repeating an existing array for a fixed number of times\n",
        "original_array = np.array([1, 2, 3])\n",
        "tiled_array = np.tile(original_array, 3)\n",
        "print(\"Tiled Array:\", tiled_array)\n"
      ]
    },
    {
      "cell_type": "code",
      "execution_count": null,
      "metadata": {
        "id": "84CFzH-TYo56",
        "outputId": "f8092032-6db6-4431-af45-849d021b42fa"
      },
      "outputs": [
        {
          "name": "stdout",
          "output_type": "stream",
          "text": [
            "Identity Matrix:\n",
            " [[1 0 0]\n",
            " [0 1 0]\n",
            " [0 0 1]]\n"
          ]
        }
      ],
      "source": [
        "# Create an identity matrix of any dimension\n",
        "identity_matrix = np.eye(3, dtype='int')\n",
        "print(\"Identity Matrix:\\n\", identity_matrix)\n",
        "\n"
      ]
    },
    {
      "cell_type": "code",
      "execution_count": null,
      "metadata": {
        "id": "aIW9bt1kYo56"
      },
      "outputs": [],
      "source": [
        "np.random.random"
      ]
    },
    {
      "cell_type": "code",
      "execution_count": null,
      "metadata": {
        "id": "eaz0eRxoYo56",
        "outputId": "3be480b3-1348-4828-bb74-61be0599e05e"
      },
      "outputs": [
        {
          "name": "stdout",
          "output_type": "stream",
          "text": [
            "Random Array: [0.90457171 0.48151762 0.42856468]\n"
          ]
        }
      ],
      "source": [
        "# Create an array of random numbers between 0 and 1\n",
        "random_array = np.random.random(3)\n",
        "print(\"Random Array:\", random_array)\n",
        "\n"
      ]
    },
    {
      "cell_type": "code",
      "execution_count": null,
      "metadata": {
        "id": "KAIp7TAMYo56",
        "outputId": "1772d9d2-b449-4d33-b2da-ea3715b6adec"
      },
      "outputs": [
        {
          "data": {
            "text/plain": [
              "array([0.10701794])"
            ]
          },
          "execution_count": 79,
          "metadata": {},
          "output_type": "execute_result"
        }
      ],
      "source": [
        "np.random.rand(1)"
      ]
    },
    {
      "cell_type": "code",
      "execution_count": null,
      "metadata": {
        "id": "gQYlMyzFYo56",
        "outputId": "4329e655-f3c7-45d8-decf-8246b8088dd2"
      },
      "outputs": [
        {
          "ename": "TypeError",
          "evalue": "Unsupported dtype dtype('float64') for randint",
          "output_type": "error",
          "traceback": [
            "\u001b[0;31m---------------------------------------------------------------------------\u001b[0m",
            "\u001b[0;31mTypeError\u001b[0m                                 Traceback (most recent call last)",
            "Cell \u001b[0;32mIn[75], line 2\u001b[0m\n\u001b[1;32m      1\u001b[0m \u001b[38;5;66;03m# Create a random array of integers within a particular range\u001b[39;00m\n\u001b[0;32m----> 2\u001b[0m randint_array \u001b[38;5;241m=\u001b[39m \u001b[43mnp\u001b[49m\u001b[38;5;241;43m.\u001b[39;49m\u001b[43mrandom\u001b[49m\u001b[38;5;241;43m.\u001b[39;49m\u001b[43mrandint\u001b[49m\u001b[43m(\u001b[49m\u001b[38;5;241;43m1\u001b[39;49m\u001b[43m,\u001b[49m\u001b[43m \u001b[49m\u001b[38;5;241;43m10\u001b[39;49m\u001b[43m,\u001b[49m\u001b[43m \u001b[49m\u001b[43msize\u001b[49m\u001b[38;5;241;43m=\u001b[39;49m\u001b[43m(\u001b[49m\u001b[38;5;241;43m2\u001b[39;49m\u001b[43m,\u001b[49m\u001b[43m \u001b[49m\u001b[38;5;241;43m3\u001b[39;49m\u001b[43m)\u001b[49m\u001b[43m,\u001b[49m\u001b[43m \u001b[49m\u001b[43mdtype\u001b[49m\u001b[38;5;241;43m=\u001b[39;49m\u001b[38;5;124;43m\"\u001b[39;49m\u001b[38;5;124;43mfloat\u001b[39;49m\u001b[38;5;124;43m\"\u001b[39;49m\u001b[43m)\u001b[49m\n\u001b[1;32m      3\u001b[0m \u001b[38;5;28mprint\u001b[39m(\u001b[38;5;124m\"\u001b[39m\u001b[38;5;124mRandom Integer Array:\u001b[39m\u001b[38;5;130;01m\\n\u001b[39;00m\u001b[38;5;124m\"\u001b[39m, randint_array)\n",
            "File \u001b[0;32mmtrand.pyx:764\u001b[0m, in \u001b[0;36mnumpy.random.mtrand.RandomState.randint\u001b[0;34m()\u001b[0m\n",
            "\u001b[0;31mTypeError\u001b[0m: Unsupported dtype dtype('float64') for randint"
          ]
        }
      ],
      "source": [
        "# Create a random array of integers within a particular range\n",
        "randint_array = np.random.randint(1, 10, size=(2, 3))\n",
        "print(\"Random Integer Array:\\n\", randint_array)\n"
      ]
    },
    {
      "cell_type": "markdown",
      "metadata": {
        "id": "4PypqK8_Yo57"
      },
      "source": [
        "### Converting list to arrays"
      ]
    },
    {
      "cell_type": "code",
      "execution_count": null,
      "metadata": {
        "id": "hENjz4RWYo57"
      },
      "outputs": [],
      "source": [
        "import numpy as np"
      ]
    },
    {
      "cell_type": "markdown",
      "metadata": {
        "id": "jdF4s1QHYo57"
      },
      "source": [
        "#### Lists to Arrays\n"
      ]
    },
    {
      "cell_type": "code",
      "execution_count": null,
      "metadata": {
        "colab": {
          "base_uri": "https://localhost:8080/"
        },
        "id": "10_LbTwzYo57",
        "outputId": "0fc31939-eab7-4c5d-b25b-417f5f6a9f35"
      },
      "outputs": [
        {
          "output_type": "stream",
          "name": "stdout",
          "text": [
            "List: [[1, 2, 3, 4, 5], [1, 2, 3, 4, 5]]\n",
            "NumPy Array: [[1 2 3 4 5]\n",
            " [1 2 3 4 5]]\n"
          ]
        },
        {
          "output_type": "execute_result",
          "data": {
            "text/plain": [
              "(2, 5)"
            ]
          },
          "metadata": {},
          "execution_count": 3
        }
      ],
      "source": [
        "# Convert a list to a NumPy array\n",
        "my_list = [[1, 2, 3, 4, 5],[1, 2, 3, 4, 5]]\n",
        "numpy_array_from_list = np.array(my_list)\n",
        "\n",
        "print(\"List:\", my_list)\n",
        "print(\"NumPy Array:\", numpy_array_from_list)\n",
        "numpy_array_from_list.shape"
      ]
    },
    {
      "cell_type": "markdown",
      "metadata": {
        "id": "f7e-amRoYo57"
      },
      "source": [
        "#### Tuples to Arrays\n"
      ]
    },
    {
      "cell_type": "code",
      "execution_count": null,
      "metadata": {
        "colab": {
          "base_uri": "https://localhost:8080/",
          "height": 179
        },
        "id": "uvGBdY97Yo57",
        "outputId": "3b633071-cf9d-4f8e-e9f6-c65d314835c9"
      },
      "outputs": [
        {
          "output_type": "error",
          "ename": "IndexError",
          "evalue": "ignored",
          "traceback": [
            "\u001b[0;31m---------------------------------------------------------------------------\u001b[0m",
            "\u001b[0;31mIndexError\u001b[0m                                Traceback (most recent call last)",
            "\u001b[0;32m<ipython-input-4-d2f25f6cd178>\u001b[0m in \u001b[0;36m<cell line: 1>\u001b[0;34m()\u001b[0m\n\u001b[0;32m----> 1\u001b[0;31m \u001b[0mnumpy_array_from_list\u001b[0m\u001b[0;34m[\u001b[0m\u001b[0;36m2\u001b[0m\u001b[0;34m]\u001b[0m\u001b[0;34m\u001b[0m\u001b[0;34m\u001b[0m\u001b[0m\n\u001b[0m",
            "\u001b[0;31mIndexError\u001b[0m: index 2 is out of bounds for axis 0 with size 2"
          ]
        }
      ],
      "source": [
        "numpy_array_from_list[2]"
      ]
    },
    {
      "cell_type": "code",
      "execution_count": null,
      "metadata": {
        "colab": {
          "base_uri": "https://localhost:8080/"
        },
        "id": "8tOSgC5qYo57",
        "outputId": "4cd6900b-96af-4166-8e14-e0bf0095d315"
      },
      "outputs": [
        {
          "output_type": "stream",
          "name": "stdout",
          "text": [
            "Tuple: (1, 2, 3, 4, 5)\n",
            "NumPy Array: [1 2 3 4 5]\n"
          ]
        }
      ],
      "source": [
        "# Convert a tuple to a NumPy array\n",
        "my_tuple = (1, 2, 3, 4, 5)\n",
        "numpy_array_from_tuple = np.array(my_tuple)\n",
        "\n",
        "print(\"Tuple:\", my_tuple)\n",
        "print(\"NumPy Array:\", numpy_array_from_tuple)\n"
      ]
    },
    {
      "cell_type": "markdown",
      "metadata": {
        "id": "MIy8scLUYo5_"
      },
      "source": [
        "#### Initializing Arrays\n"
      ]
    },
    {
      "cell_type": "code",
      "execution_count": null,
      "metadata": {
        "colab": {
          "base_uri": "https://localhost:8080/"
        },
        "id": "u0UQgO5iYo5_",
        "outputId": "c0b5a123-380a-4597-f850-7d8ca34eb0e3"
      },
      "outputs": [
        {
          "output_type": "execute_result",
          "data": {
            "text/plain": [
              "dtype('int64')"
            ]
          },
          "metadata": {},
          "execution_count": 6
        }
      ],
      "source": [
        "numpy_array_from_tuple.dtype"
      ]
    },
    {
      "cell_type": "code",
      "execution_count": null,
      "metadata": {
        "colab": {
          "base_uri": "https://localhost:8080/"
        },
        "id": "tVhHv2ZaYo5_",
        "outputId": "64f5430e-97ab-4051-ee61-779f2ab00851"
      },
      "outputs": [
        {
          "output_type": "execute_result",
          "data": {
            "text/plain": [
              "array([1., 1., 1., 1., 1., 1., 1., 1., 1., 1.])"
            ]
          },
          "metadata": {},
          "execution_count": 7
        }
      ],
      "source": [
        "fixed_size_array = np.ones(10, dtype=\"float\")\n",
        "fixed_size_array"
      ]
    },
    {
      "cell_type": "code",
      "execution_count": null,
      "metadata": {
        "colab": {
          "base_uri": "https://localhost:8080/"
        },
        "id": "JDNjTpkuYo5_",
        "outputId": "a93e8f38-f0d2-4e9e-a4ed-0463ecfdb4d1"
      },
      "outputs": [
        {
          "output_type": "stream",
          "name": "stdout",
          "text": [
            "Fixed Size Array (Zeros): [0 0 0 0 0]\n"
          ]
        }
      ],
      "source": [
        "# Initialize an array of fixed size with zeros\n",
        "fixed_size_array = np.zeros(5, dtype=int)\n",
        "\n",
        "print(\"Fixed Size Array (Zeros):\", fixed_size_array)\n"
      ]
    },
    {
      "cell_type": "markdown",
      "metadata": {
        "id": "bS0SyMA_Yo5_"
      },
      "source": [
        "#### Accessing Elements"
      ]
    },
    {
      "cell_type": "code",
      "execution_count": null,
      "metadata": {
        "colab": {
          "base_uri": "https://localhost:8080/"
        },
        "id": "K5ejKqqcYo5_",
        "outputId": "2a36603f-8483-47f0-da6b-45ea8012f454"
      },
      "outputs": [
        {
          "output_type": "stream",
          "name": "stdout",
          "text": [
            "First element: [1 2 3 4 5]\n",
            "Second element: [1 2 3 4 5]\n"
          ]
        }
      ],
      "source": [
        "# Accessing individual elements using indexing\n",
        "print(\"First element:\", numpy_array_from_list[0])\n",
        "print(\"Second element:\", numpy_array_from_list[1])\n"
      ]
    },
    {
      "cell_type": "markdown",
      "metadata": {
        "id": "dpfVEIH_Yo5_"
      },
      "source": [
        "#### Iterating Through Arrays"
      ]
    },
    {
      "cell_type": "code",
      "execution_count": null,
      "metadata": {
        "id": "upNDBpIvYo5_"
      },
      "outputs": [],
      "source": [
        "lst1 = [1,2,3]\n"
      ]
    },
    {
      "cell_type": "code",
      "execution_count": null,
      "metadata": {
        "id": "vjjEWNfpYo5_"
      },
      "outputs": [],
      "source": [
        "arr1 = np.array([1,2,3,4,5])"
      ]
    },
    {
      "cell_type": "code",
      "execution_count": null,
      "metadata": {
        "colab": {
          "base_uri": "https://localhost:8080/"
        },
        "id": "itARrP6oYo5_",
        "outputId": "62167235-2d06-47f0-95b8-a8e875671a70"
      },
      "outputs": [
        {
          "output_type": "stream",
          "name": "stdout",
          "text": [
            "1\n",
            "2\n",
            "3\n",
            "4\n",
            "5\n"
          ]
        }
      ],
      "source": [
        "for i in arr1:\n",
        "    print(i)"
      ]
    },
    {
      "cell_type": "code",
      "execution_count": null,
      "metadata": {
        "colab": {
          "base_uri": "https://localhost:8080/"
        },
        "id": "z4fcMF1_Yo5_",
        "outputId": "755e996b-d309-4d45-e4eb-87d8bc9cd9c3"
      },
      "outputs": [
        {
          "output_type": "execute_result",
          "data": {
            "text/plain": [
              "array([1, 0, 1, 0, 1])"
            ]
          },
          "metadata": {},
          "execution_count": 13
        }
      ],
      "source": [
        "arr1%2"
      ]
    },
    {
      "cell_type": "markdown",
      "metadata": {
        "id": "VA6Qa7lFYo5_"
      },
      "source": [
        "#### Slicing"
      ]
    },
    {
      "cell_type": "code",
      "execution_count": null,
      "metadata": {
        "id": "iVSstAELYo5_"
      },
      "outputs": [],
      "source": [
        "arr1 = np.array([1,2,3,4,5])"
      ]
    },
    {
      "cell_type": "code",
      "execution_count": null,
      "metadata": {
        "colab": {
          "base_uri": "https://localhost:8080/"
        },
        "id": "8EZ3cdThYo5_",
        "outputId": "2990f794-c274-4057-d708-1756f001bf5d"
      },
      "outputs": [
        {
          "output_type": "stream",
          "name": "stdout",
          "text": [
            "[1 2 3 4 5]\n"
          ]
        }
      ],
      "source": [
        "print(arr1)\n"
      ]
    },
    {
      "cell_type": "code",
      "execution_count": null,
      "metadata": {
        "colab": {
          "base_uri": "https://localhost:8080/"
        },
        "id": "_i_wCJrQYo5_",
        "outputId": "822984ee-5822-4493-d683-b59ff695008d"
      },
      "outputs": [
        {
          "output_type": "execute_result",
          "data": {
            "text/plain": [
              "array([1, 2, 3, 4, 5])"
            ]
          },
          "metadata": {},
          "execution_count": 16
        }
      ],
      "source": [
        "arr1"
      ]
    },
    {
      "cell_type": "code",
      "execution_count": null,
      "metadata": {
        "scrolled": true,
        "colab": {
          "base_uri": "https://localhost:8080/"
        },
        "id": "9DHRyKAmYo5_",
        "outputId": "5c1dafdc-5547-480f-9216-d4b024b40970"
      },
      "outputs": [
        {
          "output_type": "execute_result",
          "data": {
            "text/plain": [
              "array([2])"
            ]
          },
          "metadata": {},
          "execution_count": 17
        }
      ],
      "source": [
        "arr1[1:2]"
      ]
    },
    {
      "cell_type": "code",
      "execution_count": null,
      "metadata": {
        "colab": {
          "base_uri": "https://localhost:8080/"
        },
        "id": "WRt3AuS4Yo5_",
        "outputId": "ec714731-1e77-4e0e-b08a-4901b876c5b9"
      },
      "outputs": [
        {
          "output_type": "execute_result",
          "data": {
            "text/plain": [
              "array([3])"
            ]
          },
          "metadata": {},
          "execution_count": 18
        }
      ],
      "source": [
        "arr1[-3:-2]"
      ]
    },
    {
      "cell_type": "code",
      "execution_count": null,
      "metadata": {
        "id": "4tsxkUxUYo6A"
      },
      "outputs": [],
      "source": []
    },
    {
      "cell_type": "code",
      "execution_count": null,
      "metadata": {
        "colab": {
          "base_uri": "https://localhost:8080/"
        },
        "id": "9Z9_lKenYo6A",
        "outputId": "82e9552c-e5ef-480b-ded3-7b12cc825412"
      },
      "outputs": [
        {
          "output_type": "stream",
          "name": "stdout",
          "text": [
            "Subset: [2 3 4]\n"
          ]
        }
      ],
      "source": [
        "# Slicing to get a subset of elements\n",
        "subset = arr1[1:4]\n",
        "print(\"Subset:\", subset)\n"
      ]
    },
    {
      "cell_type": "code",
      "execution_count": null,
      "metadata": {
        "id": "Wjpy8XR3Yo6A"
      },
      "outputs": [],
      "source": [
        "import numpy as np\n",
        "\n",
        "# Create a 1-dimensional NumPy array\n",
        "original_array = np.array([1, 2, 3, 4, 5, 6, 7, 8, 9])\n",
        "\n"
      ]
    },
    {
      "cell_type": "code",
      "execution_count": null,
      "metadata": {
        "colab": {
          "base_uri": "https://localhost:8080/"
        },
        "id": "5Kj5T8X2Yo6A",
        "outputId": "18756d85-eaa4-4137-dca1-812f97713bc3"
      },
      "outputs": [
        {
          "output_type": "stream",
          "name": "stdout",
          "text": [
            "Slice 1 (Basic Slicing): [3 4 5 6]\n"
          ]
        }
      ],
      "source": [
        "# Example 1: Basic Slicing\n",
        "slice1 = original_array[2:6]\n",
        "print(\"Slice 1 (Basic Slicing):\", slice1)\n"
      ]
    },
    {
      "cell_type": "code",
      "execution_count": null,
      "metadata": {
        "colab": {
          "base_uri": "https://localhost:8080/"
        },
        "id": "qAL8ieoxYo6A",
        "outputId": "c52b67c4-6585-4365-cb6b-d113cf6adca3"
      },
      "outputs": [
        {
          "output_type": "stream",
          "name": "stdout",
          "text": [
            "\n",
            "Slice 2 (Selecting Every Second Element): [2 4 6 8]\n"
          ]
        }
      ],
      "source": [
        "# Example 2: Using colon to select a range\n",
        "slice2 = original_array[1:8:2]\n",
        "print(\"\\nSlice 2 (Selecting Every Second Element):\", slice2)\n"
      ]
    },
    {
      "cell_type": "code",
      "execution_count": null,
      "metadata": {
        "colab": {
          "base_uri": "https://localhost:8080/"
        },
        "id": "bey4V5BxYo6A",
        "outputId": "051ef080-c1a9-4c7f-e677-eff4526f66ea"
      },
      "outputs": [
        {
          "output_type": "stream",
          "name": "stdout",
          "text": [
            "\n",
            "Slice 3 (Negative Indices): [5 6 7 8]\n"
          ]
        }
      ],
      "source": [
        "# Example 3: Negative indices for backward slicing\n",
        "slice3 = original_array[-5:-1]\n",
        "print(\"\\nSlice 3 (Negative Indices):\", slice3)\n"
      ]
    },
    {
      "cell_type": "code",
      "execution_count": null,
      "metadata": {
        "colab": {
          "base_uri": "https://localhost:8080/"
        },
        "id": "jSyAxpyCYo6A",
        "outputId": "0c9683a1-d2fa-46e8-d9a2-6154e2811874"
      },
      "outputs": [
        {
          "output_type": "execute_result",
          "data": {
            "text/plain": [
              "array([1, 2, 3, 4, 5, 6, 7, 8, 9])"
            ]
          },
          "metadata": {},
          "execution_count": 24
        }
      ],
      "source": [
        "original_array"
      ]
    },
    {
      "cell_type": "code",
      "execution_count": null,
      "metadata": {
        "colab": {
          "base_uri": "https://localhost:8080/"
        },
        "id": "kfCbi-tmYo6A",
        "outputId": "9f667cd8-07da-4c84-bdc5-b7d256baf3a3"
      },
      "outputs": [
        {
          "output_type": "stream",
          "name": "stdout",
          "text": [
            "\n",
            "Slice 4 (Omitting Start Index): [1 2 3 4 5]\n"
          ]
        }
      ],
      "source": [
        "# Example 4: Omitting start or end index\n",
        "slice4 = original_array[:5]\n",
        "print(\"\\nSlice 4 (Omitting Start Index):\", slice4)\n"
      ]
    },
    {
      "cell_type": "code",
      "execution_count": null,
      "metadata": {
        "colab": {
          "base_uri": "https://localhost:8080/"
        },
        "id": "-swS1agfYo6A",
        "outputId": "60d11130-bff3-4d08-ba96-fb89bc5cbdd3"
      },
      "outputs": [
        {
          "output_type": "execute_result",
          "data": {
            "text/plain": [
              "array([1, 2, 3, 4, 5, 6, 7, 8, 9])"
            ]
          },
          "metadata": {},
          "execution_count": 26
        }
      ],
      "source": [
        "original_array"
      ]
    },
    {
      "cell_type": "code",
      "execution_count": null,
      "metadata": {
        "colab": {
          "base_uri": "https://localhost:8080/"
        },
        "id": "3r_eEvhCYo6A",
        "outputId": "9e8b86a9-9634-404f-aea5-8e1c780d50a5"
      },
      "outputs": [
        {
          "output_type": "stream",
          "name": "stdout",
          "text": [
            "\n",
            "Slice 5 (Conditional Slicing): [6 7 8 9]\n"
          ]
        }
      ],
      "source": [
        "# Example 5: Conditional Slicing\n",
        "condition = original_array > 5\n",
        "slice5 = original_array[condition]\n",
        "print(\"\\nSlice 5 (Conditional Slicing):\", slice5)\n"
      ]
    },
    {
      "cell_type": "markdown",
      "metadata": {
        "id": "k2YID6RsYo6A"
      },
      "source": [
        "#### Contents of Array"
      ]
    },
    {
      "cell_type": "code",
      "execution_count": null,
      "metadata": {
        "colab": {
          "base_uri": "https://localhost:8080/"
        },
        "id": "DkuK5CyDYo6A",
        "outputId": "b77c1693-44dc-4462-e45d-2d1c164c622b"
      },
      "outputs": [
        {
          "output_type": "execute_result",
          "data": {
            "text/plain": [
              "array([[1, 2, 3, 4, 5],\n",
              "       [1, 2, 3, 4, 5]])"
            ]
          },
          "metadata": {},
          "execution_count": 28
        }
      ],
      "source": [
        "numpy_array_from_list"
      ]
    },
    {
      "cell_type": "code",
      "execution_count": null,
      "metadata": {
        "colab": {
          "base_uri": "https://localhost:8080/"
        },
        "id": "WMO_CLDhYo6A",
        "outputId": "c859c5ab-1215-4e75-c412-dd96cdcf8d05"
      },
      "outputs": [
        {
          "output_type": "stream",
          "name": "stdout",
          "text": [
            "Shape: (2, 5)\n",
            "Size: 10\n",
            "Data Type: int64\n"
          ]
        }
      ],
      "source": [
        "# Print array shape, size, and data type\n",
        "print(\"Shape:\", numpy_array_from_list.shape)\n",
        "print(\"Size:\", numpy_array_from_list.size)\n",
        "print(\"Data Type:\", numpy_array_from_list.dtype)\n"
      ]
    },
    {
      "cell_type": "markdown",
      "metadata": {
        "id": "aTD3o6AQYo6A"
      },
      "source": [
        "#### Creating large arrays"
      ]
    },
    {
      "cell_type": "code",
      "execution_count": null,
      "metadata": {
        "colab": {
          "base_uri": "https://localhost:8080/"
        },
        "id": "6QGbTRayYo6A",
        "outputId": "c309590e-a71b-4542-c5e4-d739cc0dcdc6"
      },
      "outputs": [
        {
          "output_type": "stream",
          "name": "stdout",
          "text": [
            "Shape: (1000, 1000)\n",
            "Size: 1000000\n",
            "Data Type: float64\n"
          ]
        }
      ],
      "source": [
        "# Creating a large NumPy array\n",
        "large_array = np.random.random((1000, 1000))\n",
        "\n",
        "# Inspecting structure\n",
        "print(\"Shape:\", large_array.shape)\n",
        "print(\"Size:\", large_array.size)\n",
        "print(\"Data Type:\", large_array.dtype)\n"
      ]
    },
    {
      "cell_type": "code",
      "execution_count": null,
      "metadata": {
        "colab": {
          "base_uri": "https://localhost:8080/"
        },
        "id": "60NLNYvQYo6A",
        "outputId": "678f7977-582e-4fba-be00-55dbf805e917"
      },
      "outputs": [
        {
          "output_type": "execute_result",
          "data": {
            "text/plain": [
              "0.5000001943375613"
            ]
          },
          "metadata": {},
          "execution_count": 31
        }
      ],
      "source": [
        "np.sin(0.523599)"
      ]
    },
    {
      "cell_type": "code",
      "execution_count": null,
      "metadata": {
        "colab": {
          "base_uri": "https://localhost:8080/"
        },
        "id": "13dh1iFwYo6A",
        "outputId": "9d8f194b-4406-4654-98b6-9ceaf70253f5"
      },
      "outputs": [
        {
          "output_type": "execute_result",
          "data": {
            "text/plain": [
              "0.8660252915835662"
            ]
          },
          "metadata": {},
          "execution_count": 32
        }
      ],
      "source": [
        "np.cos(0.523599)"
      ]
    },
    {
      "cell_type": "code",
      "execution_count": null,
      "metadata": {
        "colab": {
          "base_uri": "https://localhost:8080/"
        },
        "id": "GGiSNLUqYo6A",
        "outputId": "64f46fd6-3ecc-49da-a49b-ff573a7c8cbe"
      },
      "outputs": [
        {
          "output_type": "execute_result",
          "data": {
            "text/plain": [
              "0.9999996732051568"
            ]
          },
          "metadata": {},
          "execution_count": 33
        }
      ],
      "source": [
        "np.tan(0.785398)"
      ]
    },
    {
      "cell_type": "code",
      "execution_count": null,
      "metadata": {
        "colab": {
          "base_uri": "https://localhost:8080/"
        },
        "id": "TLkWkcsRYo6B",
        "outputId": "c1cde9f2-bd41-49f5-b4be-5d88ea4972a5"
      },
      "outputs": [
        {
          "output_type": "stream",
          "name": "stdout",
          "text": [
            "S [3 4 5 6]\n",
            "[3 4 5 6]\n"
          ]
        }
      ],
      "source": [
        "oa=np.array([1,2,3,4,5,6,7,8,9])\n",
        "s=oa[2:6]\n",
        "print(\"S\",s)\n",
        "print(s)"
      ]
    },
    {
      "cell_type": "code",
      "execution_count": null,
      "metadata": {
        "id": "Iz-tvAhSYo6B"
      },
      "outputs": [],
      "source": [
        "a= 2\n",
        "b= 3\n"
      ]
    },
    {
      "cell_type": "code",
      "execution_count": null,
      "metadata": {
        "colab": {
          "base_uri": "https://localhost:8080/"
        },
        "id": "U4MvOPtZYo6B",
        "outputId": "d400dcc4-f93a-4161-f828-724fb52f245b"
      },
      "outputs": [
        {
          "output_type": "stream",
          "name": "stdout",
          "text": [
            "2\n",
            "3\n"
          ]
        }
      ],
      "source": [
        "print(a)\n",
        "print(b)"
      ]
    },
    {
      "cell_type": "markdown",
      "metadata": {
        "id": "qsFWkAEMYo6B"
      },
      "source": [
        "### Reshape"
      ]
    },
    {
      "cell_type": "code",
      "execution_count": null,
      "metadata": {
        "id": "GPKgoy-YYo6B"
      },
      "outputs": [],
      "source": [
        "arr1=np.array([1,2,3,4,5,6,7,8])"
      ]
    },
    {
      "cell_type": "code",
      "execution_count": null,
      "metadata": {
        "colab": {
          "base_uri": "https://localhost:8080/"
        },
        "id": "NDuOAIbXYo6B",
        "outputId": "a6448570-d4ad-4932-bd86-5356d38b4c8c"
      },
      "outputs": [
        {
          "output_type": "execute_result",
          "data": {
            "text/plain": [
              "array([1, 2, 3, 4, 5, 6, 7, 8])"
            ]
          },
          "metadata": {},
          "execution_count": 38
        }
      ],
      "source": [
        "arr1"
      ]
    },
    {
      "cell_type": "code",
      "execution_count": null,
      "metadata": {
        "colab": {
          "base_uri": "https://localhost:8080/"
        },
        "id": "UJh3DXTWYo6B",
        "outputId": "ed60d1df-3baf-47d0-8ef1-392d4415844e"
      },
      "outputs": [
        {
          "output_type": "execute_result",
          "data": {
            "text/plain": [
              "(8,)"
            ]
          },
          "metadata": {},
          "execution_count": 39
        }
      ],
      "source": [
        "arr1.shape"
      ]
    },
    {
      "cell_type": "code",
      "execution_count": null,
      "metadata": {
        "id": "s-HTjpB0Yo6B"
      },
      "outputs": [],
      "source": [
        "arr_reshaped = arr1.reshape(4,2)"
      ]
    },
    {
      "cell_type": "code",
      "execution_count": null,
      "metadata": {
        "colab": {
          "base_uri": "https://localhost:8080/"
        },
        "id": "08Hc2-tuYo6B",
        "outputId": "98ce2591-2d05-439b-c191-68cb8aa62059"
      },
      "outputs": [
        {
          "output_type": "execute_result",
          "data": {
            "text/plain": [
              "(4, 2)"
            ]
          },
          "metadata": {},
          "execution_count": 41
        }
      ],
      "source": [
        "arr_reshaped.shape"
      ]
    },
    {
      "cell_type": "code",
      "execution_count": null,
      "metadata": {
        "colab": {
          "base_uri": "https://localhost:8080/"
        },
        "id": "zY5sxKhQYo6B",
        "outputId": "9b18c960-dc33-4ae1-b807-b29b7c4f1dcd"
      },
      "outputs": [
        {
          "output_type": "execute_result",
          "data": {
            "text/plain": [
              "array([[1, 2],\n",
              "       [3, 4],\n",
              "       [5, 6],\n",
              "       [7, 8]])"
            ]
          },
          "metadata": {},
          "execution_count": 42
        }
      ],
      "source": [
        "arr_reshaped"
      ]
    },
    {
      "cell_type": "code",
      "execution_count": null,
      "metadata": {
        "id": "QxRKRtOaYo6B"
      },
      "outputs": [],
      "source": [
        "a = 2"
      ]
    },
    {
      "cell_type": "code",
      "execution_count": null,
      "metadata": {
        "colab": {
          "base_uri": "https://localhost:8080/"
        },
        "id": "KTrpY9p5Yo6B",
        "outputId": "4642899d-191a-44e8-f9eb-0b86eaf0eb91"
      },
      "outputs": [
        {
          "output_type": "execute_result",
          "data": {
            "text/plain": [
              "['__add__',\n",
              " '__class__',\n",
              " '__class_getitem__',\n",
              " '__contains__',\n",
              " '__delattr__',\n",
              " '__delitem__',\n",
              " '__dir__',\n",
              " '__doc__',\n",
              " '__eq__',\n",
              " '__format__',\n",
              " '__ge__',\n",
              " '__getattribute__',\n",
              " '__getitem__',\n",
              " '__gt__',\n",
              " '__hash__',\n",
              " '__iadd__',\n",
              " '__imul__',\n",
              " '__init__',\n",
              " '__init_subclass__',\n",
              " '__iter__',\n",
              " '__le__',\n",
              " '__len__',\n",
              " '__lt__',\n",
              " '__mul__',\n",
              " '__ne__',\n",
              " '__new__',\n",
              " '__reduce__',\n",
              " '__reduce_ex__',\n",
              " '__repr__',\n",
              " '__reversed__',\n",
              " '__rmul__',\n",
              " '__setattr__',\n",
              " '__setitem__',\n",
              " '__sizeof__',\n",
              " '__str__',\n",
              " '__subclasshook__',\n",
              " 'append',\n",
              " 'clear',\n",
              " 'copy',\n",
              " 'count',\n",
              " 'extend',\n",
              " 'index',\n",
              " 'insert',\n",
              " 'pop',\n",
              " 'remove',\n",
              " 'reverse',\n",
              " 'sort']"
            ]
          },
          "metadata": {},
          "execution_count": 44
        }
      ],
      "source": [
        "dir(list)"
      ]
    },
    {
      "cell_type": "code",
      "execution_count": null,
      "metadata": {
        "colab": {
          "base_uri": "https://localhost:8080/"
        },
        "id": "cQHuztj0Yo6B",
        "outputId": "b4a11ee8-1e11-4954-d930-c66fab71ba84"
      },
      "outputs": [
        {
          "output_type": "execute_result",
          "data": {
            "text/plain": [
              "['__class__',\n",
              " '__class_getitem__',\n",
              " '__contains__',\n",
              " '__delattr__',\n",
              " '__delitem__',\n",
              " '__dir__',\n",
              " '__doc__',\n",
              " '__eq__',\n",
              " '__format__',\n",
              " '__ge__',\n",
              " '__getattribute__',\n",
              " '__getitem__',\n",
              " '__gt__',\n",
              " '__hash__',\n",
              " '__init__',\n",
              " '__init_subclass__',\n",
              " '__ior__',\n",
              " '__iter__',\n",
              " '__le__',\n",
              " '__len__',\n",
              " '__lt__',\n",
              " '__ne__',\n",
              " '__new__',\n",
              " '__or__',\n",
              " '__reduce__',\n",
              " '__reduce_ex__',\n",
              " '__repr__',\n",
              " '__reversed__',\n",
              " '__ror__',\n",
              " '__setattr__',\n",
              " '__setitem__',\n",
              " '__sizeof__',\n",
              " '__str__',\n",
              " '__subclasshook__',\n",
              " 'clear',\n",
              " 'copy',\n",
              " 'fromkeys',\n",
              " 'get',\n",
              " 'items',\n",
              " 'keys',\n",
              " 'pop',\n",
              " 'popitem',\n",
              " 'setdefault',\n",
              " 'update',\n",
              " 'values']"
            ]
          },
          "metadata": {},
          "execution_count": 45
        }
      ],
      "source": [
        "dir(dict)"
      ]
    },
    {
      "cell_type": "code",
      "execution_count": null,
      "metadata": {
        "id": "ZFzNW-PXYo6B"
      },
      "outputs": [],
      "source": []
    }
  ],
  "metadata": {
    "kernelspec": {
      "display_name": "Python 3 (ipykernel)",
      "language": "python",
      "name": "python3"
    },
    "language_info": {
      "codemirror_mode": {
        "name": "ipython",
        "version": 3
      },
      "file_extension": ".py",
      "mimetype": "text/x-python",
      "name": "python",
      "nbconvert_exporter": "python",
      "pygments_lexer": "ipython3",
      "version": "3.10.9"
    },
    "colab": {
      "provenance": [],
      "include_colab_link": true
    }
  },
  "nbformat": 4,
  "nbformat_minor": 0
}